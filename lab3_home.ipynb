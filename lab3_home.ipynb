{
 "cells": [
  {
   "cell_type": "markdown",
   "metadata": {},
   "source": [
    "sns.pairplot(data)### 100,000 UK Used Car Data set\n",
    "https://www.kaggle.com/adityadesai13/used-car-dataset-ford-and-mercedes\n",
    "\n",
    "\n",
    "1. Выбрать набор данных для своей группы: <br>\n",
    "    3530203_70101: Audi <br>\n",
    "    3530203_70102: BMW <br>\n",
    "    3530903_70301: Ford <br>\n",
    "    3530903_70302: Mercedes<br>\n",
    "    \n",
    "2. Разбить данные на тренировочные и тестовые (70% на 30%, random_state=10).\n",
    "3. Попытаться обучить регрессии c лучшим качеством. \n"
   ]
  },
  {
   "cell_type": "code",
   "execution_count": 401,
   "metadata": {},
   "outputs": [],
   "source": [
    "import pandas as pd\n",
    "import numpy as np\n",
    "import seaborn as sns\n",
    "import matplotlib.pyplot as plt\n",
    "import seaborn as sns\n",
    "from sklearn.linear_model import LinearRegression, Lasso, Ridge, LassoCV, RidgeCV\n",
    "from xgboost import XGBRegressor\n",
    "# Регуляризация: Ridge - квадраты весов ограничиваются коэффициентом, Lasso - модуль весов\n",
    "# Можно задать параметр альфа, управляющий силой регуляризации\n",
    "# LassoCV и RidgeCV используют кросс-валидацию и подбирают значения коэффициента\n",
    "from sklearn.preprocessing import StandardScaler\n",
    "from sklearn import metrics\n",
    "from sklearn.model_selection import train_test_split\n",
    "from sklearn.ensemble import RandomForestRegressor"
   ]
  },
  {
   "cell_type": "code",
   "execution_count": 418,
   "metadata": {},
   "outputs": [],
   "source": [
    "auto_data = pd.read_csv(\"audi.csv\")\n",
    "# miles per gallon (MPG) - расход топлива\n",
    "# engineSize - объем двигателя\n",
    "# предсказываем цену\n",
    "\n",
    "auto_data = auto_data.reindex(columns=['price', 'model', 'year', 'transmission','mileage', 'fuelType','tax', 'mpg','engineSize'])\n",
    "# auto_data"
   ]
  },
  {
   "cell_type": "code",
   "execution_count": 3,
   "metadata": {},
   "outputs": [
    {
     "data": {
      "text/html": [
       "<div>\n",
       "<style scoped>\n",
       "    .dataframe tbody tr th:only-of-type {\n",
       "        vertical-align: middle;\n",
       "    }\n",
       "\n",
       "    .dataframe tbody tr th {\n",
       "        vertical-align: top;\n",
       "    }\n",
       "\n",
       "    .dataframe thead th {\n",
       "        text-align: right;\n",
       "    }\n",
       "</style>\n",
       "<table border=\"1\" class=\"dataframe\">\n",
       "  <thead>\n",
       "    <tr style=\"text-align: right;\">\n",
       "      <th></th>\n",
       "      <th>year</th>\n",
       "      <th>price</th>\n",
       "      <th>mileage</th>\n",
       "      <th>tax</th>\n",
       "      <th>mpg</th>\n",
       "      <th>engineSize</th>\n",
       "    </tr>\n",
       "  </thead>\n",
       "  <tbody>\n",
       "    <tr>\n",
       "      <th>count</th>\n",
       "      <td>10668.000000</td>\n",
       "      <td>10668.000000</td>\n",
       "      <td>10668.000000</td>\n",
       "      <td>10668.000000</td>\n",
       "      <td>10668.000000</td>\n",
       "      <td>10668.000000</td>\n",
       "    </tr>\n",
       "    <tr>\n",
       "      <th>mean</th>\n",
       "      <td>2017.100675</td>\n",
       "      <td>22896.685039</td>\n",
       "      <td>24827.244001</td>\n",
       "      <td>126.011436</td>\n",
       "      <td>50.770022</td>\n",
       "      <td>1.930709</td>\n",
       "    </tr>\n",
       "    <tr>\n",
       "      <th>std</th>\n",
       "      <td>2.167494</td>\n",
       "      <td>11714.841888</td>\n",
       "      <td>23505.257205</td>\n",
       "      <td>67.170294</td>\n",
       "      <td>12.949782</td>\n",
       "      <td>0.602957</td>\n",
       "    </tr>\n",
       "    <tr>\n",
       "      <th>min</th>\n",
       "      <td>1997.000000</td>\n",
       "      <td>1490.000000</td>\n",
       "      <td>1.000000</td>\n",
       "      <td>0.000000</td>\n",
       "      <td>18.900000</td>\n",
       "      <td>0.000000</td>\n",
       "    </tr>\n",
       "    <tr>\n",
       "      <th>25%</th>\n",
       "      <td>2016.000000</td>\n",
       "      <td>15130.750000</td>\n",
       "      <td>5968.750000</td>\n",
       "      <td>125.000000</td>\n",
       "      <td>40.900000</td>\n",
       "      <td>1.500000</td>\n",
       "    </tr>\n",
       "    <tr>\n",
       "      <th>50%</th>\n",
       "      <td>2017.000000</td>\n",
       "      <td>20200.000000</td>\n",
       "      <td>19000.000000</td>\n",
       "      <td>145.000000</td>\n",
       "      <td>49.600000</td>\n",
       "      <td>2.000000</td>\n",
       "    </tr>\n",
       "    <tr>\n",
       "      <th>75%</th>\n",
       "      <td>2019.000000</td>\n",
       "      <td>27990.000000</td>\n",
       "      <td>36464.500000</td>\n",
       "      <td>145.000000</td>\n",
       "      <td>58.900000</td>\n",
       "      <td>2.000000</td>\n",
       "    </tr>\n",
       "    <tr>\n",
       "      <th>max</th>\n",
       "      <td>2020.000000</td>\n",
       "      <td>145000.000000</td>\n",
       "      <td>323000.000000</td>\n",
       "      <td>580.000000</td>\n",
       "      <td>188.300000</td>\n",
       "      <td>6.300000</td>\n",
       "    </tr>\n",
       "  </tbody>\n",
       "</table>\n",
       "</div>"
      ],
      "text/plain": [
       "               year          price        mileage           tax           mpg  \\\n",
       "count  10668.000000   10668.000000   10668.000000  10668.000000  10668.000000   \n",
       "mean    2017.100675   22896.685039   24827.244001    126.011436     50.770022   \n",
       "std        2.167494   11714.841888   23505.257205     67.170294     12.949782   \n",
       "min     1997.000000    1490.000000       1.000000      0.000000     18.900000   \n",
       "25%     2016.000000   15130.750000    5968.750000    125.000000     40.900000   \n",
       "50%     2017.000000   20200.000000   19000.000000    145.000000     49.600000   \n",
       "75%     2019.000000   27990.000000   36464.500000    145.000000     58.900000   \n",
       "max     2020.000000  145000.000000  323000.000000    580.000000    188.300000   \n",
       "\n",
       "         engineSize  \n",
       "count  10668.000000  \n",
       "mean       1.930709  \n",
       "std        0.602957  \n",
       "min        0.000000  \n",
       "25%        1.500000  \n",
       "50%        2.000000  \n",
       "75%        2.000000  \n",
       "max        6.300000  "
      ]
     },
     "execution_count": 3,
     "metadata": {},
     "output_type": "execute_result"
    }
   ],
   "source": [
    "auto_data.describe()"
   ]
  },
  {
   "cell_type": "code",
   "execution_count": 4,
   "metadata": {},
   "outputs": [
    {
     "name": "stdout",
     "output_type": "stream",
     "text": [
      "<class 'pandas.core.frame.DataFrame'>\n",
      "RangeIndex: 10668 entries, 0 to 10667\n",
      "Data columns (total 9 columns):\n",
      " #   Column        Non-Null Count  Dtype  \n",
      "---  ------        --------------  -----  \n",
      " 0   model         10668 non-null  object \n",
      " 1   year          10668 non-null  int64  \n",
      " 2   price         10668 non-null  int64  \n",
      " 3   transmission  10668 non-null  object \n",
      " 4   mileage       10668 non-null  int64  \n",
      " 5   fuelType      10668 non-null  object \n",
      " 6   tax           10668 non-null  int64  \n",
      " 7   mpg           10668 non-null  float64\n",
      " 8   engineSize    10668 non-null  float64\n",
      "dtypes: float64(2), int64(4), object(3)\n",
      "memory usage: 750.2+ KB\n"
     ]
    }
   ],
   "source": [
    "auto_data.info()"
   ]
  },
  {
   "cell_type": "code",
   "execution_count": 5,
   "metadata": {},
   "outputs": [
    {
     "data": {
      "text/plain": [
       "<seaborn.axisgrid.PairGrid at 0x18c0bba8a90>"
      ]
     },
     "execution_count": 5,
     "metadata": {},
     "output_type": "execute_result"
    },
    {
     "data": {
      "image/png": "[encoded data removed]",
      "text/plain": [
       "<Figure size 1080x1080 with 42 Axes>"
      ]
     },
     "metadata": {
      "needs_background": "light"
     },
     "output_type": "display_data"
    }
   ],
   "source": [
    "sns.pairplot(auto_data)"
   ]
  },
  {
   "cell_type": "code",
   "execution_count": 177,
   "metadata": {},
   "outputs": [
    {
     "data": {
      "text/plain": [
       "<AxesSubplot:>"
      ]
     },
     "execution_count": 177,
     "metadata": {},
     "output_type": "execute_result"
    },
    {
     "data": {
      "image/png": "[encoded data removed]",
      "text/plain": [
       "<Figure size 432x288 with 2 Axes>"
      ]
     },
     "metadata": {
      "needs_background": "light"
     },
     "output_type": "display_data"
    }
   ],
   "source": [
    "corr_matrix = auto_data.corr(method='pearson')\n",
    "sns.heatmap(corr_matrix, annot=True, annot_kws={\"size\":7})"
   ]
  },
  {
   "cell_type": "code",
   "execution_count": 188,
   "metadata": {},
   "outputs": [
    {
     "name": "stdout",
     "output_type": "stream",
     "text": [
      " A3     0.180821\n",
      " Q3     0.132827\n",
      " A4     0.129453\n",
      " A1     0.126265\n",
      " A5     0.082677\n",
      " Q5     0.082208\n",
      " Q2     0.077053\n",
      " A6     0.070116\n",
      " Q7     0.037214\n",
      " TT     0.031496\n",
      " A7     0.011436\n",
      " A8     0.011061\n",
      " Q8     0.006468\n",
      " RS6    0.003656\n",
      " RS3    0.003093\n",
      " RS4    0.002906\n",
      " RS5    0.002718\n",
      " R8     0.002625\n",
      " S3     0.001687\n",
      " SQ5    0.001500\n",
      " S4     0.001125\n",
      " SQ7    0.000750\n",
      " S8     0.000375\n",
      " S5     0.000281\n",
      " RS7    0.000094\n",
      " A2     0.000094\n",
      "Name: model, dtype: float64\n"
     ]
    },
    {
     "data": {
      "text/plain": [
       "<AxesSubplot:xlabel='count', ylabel='model'>"
      ]
     },
     "execution_count": 188,
     "metadata": {},
     "output_type": "execute_result"
    },
    {
     "data": {
      "image/png": "[encoded data removed]",
      "text/plain": [
       "<Figure size 432x288 with 1 Axes>"
      ]
     },
     "metadata": {
      "needs_background": "light"
     },
     "output_type": "display_data"
    }
   ],
   "source": [
    "print(auto_data[\"model\"].value_counts() / len(auto_data))\n",
    "sns.countplot(y = auto_data[\"model\"])"
   ]
  },
  {
   "cell_type": "code",
   "execution_count": 408,
   "metadata": {},
   "outputs": [
    {
     "data": {
      "text/html": [
       "<div>\n",
       "<style scoped>\n",
       "    .dataframe tbody tr th:only-of-type {\n",
       "        vertical-align: middle;\n",
       "    }\n",
       "\n",
       "    .dataframe tbody tr th {\n",
       "        vertical-align: top;\n",
       "    }\n",
       "\n",
       "    .dataframe thead th {\n",
       "        text-align: right;\n",
       "    }\n",
       "</style>\n",
       "<table border=\"1\" class=\"dataframe\">\n",
       "  <thead>\n",
       "    <tr style=\"text-align: right;\">\n",
       "      <th></th>\n",
       "      <th>price</th>\n",
       "      <th>year</th>\n",
       "      <th>mileage</th>\n",
       "      <th>tax</th>\n",
       "      <th>mpg</th>\n",
       "      <th>engineSize</th>\n",
       "      <th>model_ A1</th>\n",
       "      <th>model_ A2</th>\n",
       "      <th>model_ A3</th>\n",
       "      <th>model_ A4</th>\n",
       "      <th>...</th>\n",
       "      <th>model_ S8</th>\n",
       "      <th>model_ SQ5</th>\n",
       "      <th>model_ SQ7</th>\n",
       "      <th>model_ TT</th>\n",
       "      <th>transmission_Automatic</th>\n",
       "      <th>transmission_Manual</th>\n",
       "      <th>transmission_Semi-Auto</th>\n",
       "      <th>fuelType_Diesel</th>\n",
       "      <th>fuelType_Hybrid</th>\n",
       "      <th>fuelType_Petrol</th>\n",
       "    </tr>\n",
       "  </thead>\n",
       "  <tbody>\n",
       "    <tr>\n",
       "      <th>0</th>\n",
       "      <td>12500</td>\n",
       "      <td>2017</td>\n",
       "      <td>15735</td>\n",
       "      <td>150</td>\n",
       "      <td>55.4</td>\n",
       "      <td>1.4</td>\n",
       "      <td>1</td>\n",
       "      <td>0</td>\n",
       "      <td>0</td>\n",
       "      <td>0</td>\n",
       "      <td>...</td>\n",
       "      <td>0</td>\n",
       "      <td>0</td>\n",
       "      <td>0</td>\n",
       "      <td>0</td>\n",
       "      <td>0</td>\n",
       "      <td>1</td>\n",
       "      <td>0</td>\n",
       "      <td>0</td>\n",
       "      <td>0</td>\n",
       "      <td>1</td>\n",
       "    </tr>\n",
       "    <tr>\n",
       "      <th>1</th>\n",
       "      <td>16500</td>\n",
       "      <td>2016</td>\n",
       "      <td>36203</td>\n",
       "      <td>20</td>\n",
       "      <td>64.2</td>\n",
       "      <td>2.0</td>\n",
       "      <td>0</td>\n",
       "      <td>0</td>\n",
       "      <td>0</td>\n",
       "      <td>0</td>\n",
       "      <td>...</td>\n",
       "      <td>0</td>\n",
       "      <td>0</td>\n",
       "      <td>0</td>\n",
       "      <td>0</td>\n",
       "      <td>1</td>\n",
       "      <td>0</td>\n",
       "      <td>0</td>\n",
       "      <td>1</td>\n",
       "      <td>0</td>\n",
       "      <td>0</td>\n",
       "    </tr>\n",
       "    <tr>\n",
       "      <th>2</th>\n",
       "      <td>11000</td>\n",
       "      <td>2016</td>\n",
       "      <td>29946</td>\n",
       "      <td>30</td>\n",
       "      <td>55.4</td>\n",
       "      <td>1.4</td>\n",
       "      <td>1</td>\n",
       "      <td>0</td>\n",
       "      <td>0</td>\n",
       "      <td>0</td>\n",
       "      <td>...</td>\n",
       "      <td>0</td>\n",
       "      <td>0</td>\n",
       "      <td>0</td>\n",
       "      <td>0</td>\n",
       "      <td>0</td>\n",
       "      <td>1</td>\n",
       "      <td>0</td>\n",
       "      <td>0</td>\n",
       "      <td>0</td>\n",
       "      <td>1</td>\n",
       "    </tr>\n",
       "    <tr>\n",
       "      <th>3</th>\n",
       "      <td>16800</td>\n",
       "      <td>2017</td>\n",
       "      <td>25952</td>\n",
       "      <td>145</td>\n",
       "      <td>67.3</td>\n",
       "      <td>2.0</td>\n",
       "      <td>0</td>\n",
       "      <td>0</td>\n",
       "      <td>0</td>\n",
       "      <td>1</td>\n",
       "      <td>...</td>\n",
       "      <td>0</td>\n",
       "      <td>0</td>\n",
       "      <td>0</td>\n",
       "      <td>0</td>\n",
       "      <td>1</td>\n",
       "      <td>0</td>\n",
       "      <td>0</td>\n",
       "      <td>1</td>\n",
       "      <td>0</td>\n",
       "      <td>0</td>\n",
       "    </tr>\n",
       "    <tr>\n",
       "      <th>4</th>\n",
       "      <td>17300</td>\n",
       "      <td>2019</td>\n",
       "      <td>1998</td>\n",
       "      <td>145</td>\n",
       "      <td>49.6</td>\n",
       "      <td>1.0</td>\n",
       "      <td>0</td>\n",
       "      <td>0</td>\n",
       "      <td>1</td>\n",
       "      <td>0</td>\n",
       "      <td>...</td>\n",
       "      <td>0</td>\n",
       "      <td>0</td>\n",
       "      <td>0</td>\n",
       "      <td>0</td>\n",
       "      <td>0</td>\n",
       "      <td>1</td>\n",
       "      <td>0</td>\n",
       "      <td>0</td>\n",
       "      <td>0</td>\n",
       "      <td>1</td>\n",
       "    </tr>\n",
       "    <tr>\n",
       "      <th>...</th>\n",
       "      <td>...</td>\n",
       "      <td>...</td>\n",
       "      <td>...</td>\n",
       "      <td>...</td>\n",
       "      <td>...</td>\n",
       "      <td>...</td>\n",
       "      <td>...</td>\n",
       "      <td>...</td>\n",
       "      <td>...</td>\n",
       "      <td>...</td>\n",
       "      <td>...</td>\n",
       "      <td>...</td>\n",
       "      <td>...</td>\n",
       "      <td>...</td>\n",
       "      <td>...</td>\n",
       "      <td>...</td>\n",
       "      <td>...</td>\n",
       "      <td>...</td>\n",
       "      <td>...</td>\n",
       "      <td>...</td>\n",
       "      <td>...</td>\n",
       "    </tr>\n",
       "    <tr>\n",
       "      <th>10663</th>\n",
       "      <td>16999</td>\n",
       "      <td>2020</td>\n",
       "      <td>4018</td>\n",
       "      <td>145</td>\n",
       "      <td>49.6</td>\n",
       "      <td>1.0</td>\n",
       "      <td>0</td>\n",
       "      <td>0</td>\n",
       "      <td>1</td>\n",
       "      <td>0</td>\n",
       "      <td>...</td>\n",
       "      <td>0</td>\n",
       "      <td>0</td>\n",
       "      <td>0</td>\n",
       "      <td>0</td>\n",
       "      <td>0</td>\n",
       "      <td>1</td>\n",
       "      <td>0</td>\n",
       "      <td>0</td>\n",
       "      <td>0</td>\n",
       "      <td>1</td>\n",
       "    </tr>\n",
       "    <tr>\n",
       "      <th>10664</th>\n",
       "      <td>16999</td>\n",
       "      <td>2020</td>\n",
       "      <td>1978</td>\n",
       "      <td>150</td>\n",
       "      <td>49.6</td>\n",
       "      <td>1.0</td>\n",
       "      <td>0</td>\n",
       "      <td>0</td>\n",
       "      <td>1</td>\n",
       "      <td>0</td>\n",
       "      <td>...</td>\n",
       "      <td>0</td>\n",
       "      <td>0</td>\n",
       "      <td>0</td>\n",
       "      <td>0</td>\n",
       "      <td>0</td>\n",
       "      <td>1</td>\n",
       "      <td>0</td>\n",
       "      <td>0</td>\n",
       "      <td>0</td>\n",
       "      <td>1</td>\n",
       "    </tr>\n",
       "    <tr>\n",
       "      <th>10665</th>\n",
       "      <td>17199</td>\n",
       "      <td>2020</td>\n",
       "      <td>609</td>\n",
       "      <td>150</td>\n",
       "      <td>49.6</td>\n",
       "      <td>1.0</td>\n",
       "      <td>0</td>\n",
       "      <td>0</td>\n",
       "      <td>1</td>\n",
       "      <td>0</td>\n",
       "      <td>...</td>\n",
       "      <td>0</td>\n",
       "      <td>0</td>\n",
       "      <td>0</td>\n",
       "      <td>0</td>\n",
       "      <td>0</td>\n",
       "      <td>1</td>\n",
       "      <td>0</td>\n",
       "      <td>0</td>\n",
       "      <td>0</td>\n",
       "      <td>1</td>\n",
       "    </tr>\n",
       "    <tr>\n",
       "      <th>10666</th>\n",
       "      <td>19499</td>\n",
       "      <td>2017</td>\n",
       "      <td>8646</td>\n",
       "      <td>150</td>\n",
       "      <td>47.9</td>\n",
       "      <td>1.4</td>\n",
       "      <td>0</td>\n",
       "      <td>0</td>\n",
       "      <td>0</td>\n",
       "      <td>0</td>\n",
       "      <td>...</td>\n",
       "      <td>0</td>\n",
       "      <td>0</td>\n",
       "      <td>0</td>\n",
       "      <td>0</td>\n",
       "      <td>1</td>\n",
       "      <td>0</td>\n",
       "      <td>0</td>\n",
       "      <td>0</td>\n",
       "      <td>0</td>\n",
       "      <td>1</td>\n",
       "    </tr>\n",
       "    <tr>\n",
       "      <th>10667</th>\n",
       "      <td>15999</td>\n",
       "      <td>2016</td>\n",
       "      <td>11855</td>\n",
       "      <td>150</td>\n",
       "      <td>47.9</td>\n",
       "      <td>1.4</td>\n",
       "      <td>0</td>\n",
       "      <td>0</td>\n",
       "      <td>0</td>\n",
       "      <td>0</td>\n",
       "      <td>...</td>\n",
       "      <td>0</td>\n",
       "      <td>0</td>\n",
       "      <td>0</td>\n",
       "      <td>0</td>\n",
       "      <td>0</td>\n",
       "      <td>1</td>\n",
       "      <td>0</td>\n",
       "      <td>0</td>\n",
       "      <td>0</td>\n",
       "      <td>1</td>\n",
       "    </tr>\n",
       "  </tbody>\n",
       "</table>\n",
       "<p>10668 rows × 38 columns</p>\n",
       "</div>"
      ],
      "text/plain": [
       "       price  year  mileage  tax   mpg  engineSize  model_ A1  model_ A2  \\\n",
       "0      12500  2017    15735  150  55.4         1.4          1          0   \n",
       "1      16500  2016    36203   20  64.2         2.0          0          0   \n",
       "2      11000  2016    29946   30  55.4         1.4          1          0   \n",
       "3      16800  2017    25952  145  67.3         2.0          0          0   \n",
       "4      17300  2019     1998  145  49.6         1.0          0          0   \n",
       "...      ...   ...      ...  ...   ...         ...        ...        ...   \n",
       "10663  16999  2020     4018  145  49.6         1.0          0          0   \n",
       "10664  16999  2020     1978  150  49.6         1.0          0          0   \n",
       "10665  17199  2020      609  150  49.6         1.0          0          0   \n",
       "10666  19499  2017     8646  150  47.9         1.4          0          0   \n",
       "10667  15999  2016    11855  150  47.9         1.4          0          0   \n",
       "\n",
       "       model_ A3  model_ A4  ...  model_ S8  model_ SQ5  model_ SQ7  \\\n",
       "0              0          0  ...          0           0           0   \n",
       "1              0          0  ...          0           0           0   \n",
       "2              0          0  ...          0           0           0   \n",
       "3              0          1  ...          0           0           0   \n",
       "4              1          0  ...          0           0           0   \n",
       "...          ...        ...  ...        ...         ...         ...   \n",
       "10663          1          0  ...          0           0           0   \n",
       "10664          1          0  ...          0           0           0   \n",
       "10665          1          0  ...          0           0           0   \n",
       "10666          0          0  ...          0           0           0   \n",
       "10667          0          0  ...          0           0           0   \n",
       "\n",
       "       model_ TT  transmission_Automatic  transmission_Manual  \\\n",
       "0              0                       0                    1   \n",
       "1              0                       1                    0   \n",
       "2              0                       0                    1   \n",
       "3              0                       1                    0   \n",
       "4              0                       0                    1   \n",
       "...          ...                     ...                  ...   \n",
       "10663          0                       0                    1   \n",
       "10664          0                       0                    1   \n",
       "10665          0                       0                    1   \n",
       "10666          0                       1                    0   \n",
       "10667          0                       0                    1   \n",
       "\n",
       "       transmission_Semi-Auto  fuelType_Diesel  fuelType_Hybrid  \\\n",
       "0                           0                0                0   \n",
       "1                           0                1                0   \n",
       "2                           0                0                0   \n",
       "3                           0                1                0   \n",
       "4                           0                0                0   \n",
       "...                       ...              ...              ...   \n",
       "10663                       0                0                0   \n",
       "10664                       0                0                0   \n",
       "10665                       0                0                0   \n",
       "10666                       0                0                0   \n",
       "10667                       0                0                0   \n",
       "\n",
       "       fuelType_Petrol  \n",
       "0                    1  \n",
       "1                    0  \n",
       "2                    1  \n",
       "3                    0  \n",
       "4                    1  \n",
       "...                ...  \n",
       "10663                1  \n",
       "10664                1  \n",
       "10665                1  \n",
       "10666                1  \n",
       "10667                1  \n",
       "\n",
       "[10668 rows x 38 columns]"
      ]
     },
     "execution_count": 408,
     "metadata": {},
     "output_type": "execute_result"
    }
   ],
   "source": [
    "auto_data = pd.get_dummies(auto_data)\n",
    "auto_data"
   ]
  },
  {
   "cell_type": "code",
   "execution_count": 419,
   "metadata": {},
   "outputs": [
    {
     "data": {
      "text/html": [
       "<div>\n",
       "<style scoped>\n",
       "    .dataframe tbody tr th:only-of-type {\n",
       "        vertical-align: middle;\n",
       "    }\n",
       "\n",
       "    .dataframe tbody tr th {\n",
       "        vertical-align: top;\n",
       "    }\n",
       "\n",
       "    .dataframe thead th {\n",
       "        text-align: right;\n",
       "    }\n",
       "</style>\n",
       "<table border=\"1\" class=\"dataframe\">\n",
       "  <thead>\n",
       "    <tr style=\"text-align: right;\">\n",
       "      <th></th>\n",
       "      <th>price</th>\n",
       "      <th>model</th>\n",
       "      <th>year</th>\n",
       "      <th>transmission</th>\n",
       "      <th>mileage</th>\n",
       "      <th>fuelType</th>\n",
       "      <th>tax</th>\n",
       "      <th>mpg</th>\n",
       "      <th>engineSize</th>\n",
       "    </tr>\n",
       "  </thead>\n",
       "  <tbody>\n",
       "    <tr>\n",
       "      <th>0</th>\n",
       "      <td>12500</td>\n",
       "      <td>0</td>\n",
       "      <td>2017</td>\n",
       "      <td>1</td>\n",
       "      <td>15735</td>\n",
       "      <td>2</td>\n",
       "      <td>150</td>\n",
       "      <td>55.4</td>\n",
       "      <td>1.4</td>\n",
       "    </tr>\n",
       "    <tr>\n",
       "      <th>1</th>\n",
       "      <td>16500</td>\n",
       "      <td>5</td>\n",
       "      <td>2016</td>\n",
       "      <td>0</td>\n",
       "      <td>36203</td>\n",
       "      <td>0</td>\n",
       "      <td>20</td>\n",
       "      <td>64.2</td>\n",
       "      <td>2.0</td>\n",
       "    </tr>\n",
       "    <tr>\n",
       "      <th>2</th>\n",
       "      <td>11000</td>\n",
       "      <td>0</td>\n",
       "      <td>2016</td>\n",
       "      <td>1</td>\n",
       "      <td>29946</td>\n",
       "      <td>2</td>\n",
       "      <td>30</td>\n",
       "      <td>55.4</td>\n",
       "      <td>1.4</td>\n",
       "    </tr>\n",
       "    <tr>\n",
       "      <th>3</th>\n",
       "      <td>16800</td>\n",
       "      <td>3</td>\n",
       "      <td>2017</td>\n",
       "      <td>0</td>\n",
       "      <td>25952</td>\n",
       "      <td>0</td>\n",
       "      <td>145</td>\n",
       "      <td>67.3</td>\n",
       "      <td>2.0</td>\n",
       "    </tr>\n",
       "    <tr>\n",
       "      <th>4</th>\n",
       "      <td>17300</td>\n",
       "      <td>2</td>\n",
       "      <td>2019</td>\n",
       "      <td>1</td>\n",
       "      <td>1998</td>\n",
       "      <td>2</td>\n",
       "      <td>145</td>\n",
       "      <td>49.6</td>\n",
       "      <td>1.0</td>\n",
       "    </tr>\n",
       "    <tr>\n",
       "      <th>...</th>\n",
       "      <td>...</td>\n",
       "      <td>...</td>\n",
       "      <td>...</td>\n",
       "      <td>...</td>\n",
       "      <td>...</td>\n",
       "      <td>...</td>\n",
       "      <td>...</td>\n",
       "      <td>...</td>\n",
       "      <td>...</td>\n",
       "    </tr>\n",
       "    <tr>\n",
       "      <th>10663</th>\n",
       "      <td>16999</td>\n",
       "      <td>2</td>\n",
       "      <td>2020</td>\n",
       "      <td>1</td>\n",
       "      <td>4018</td>\n",
       "      <td>2</td>\n",
       "      <td>145</td>\n",
       "      <td>49.6</td>\n",
       "      <td>1.0</td>\n",
       "    </tr>\n",
       "    <tr>\n",
       "      <th>10664</th>\n",
       "      <td>16999</td>\n",
       "      <td>2</td>\n",
       "      <td>2020</td>\n",
       "      <td>1</td>\n",
       "      <td>1978</td>\n",
       "      <td>2</td>\n",
       "      <td>150</td>\n",
       "      <td>49.6</td>\n",
       "      <td>1.0</td>\n",
       "    </tr>\n",
       "    <tr>\n",
       "      <th>10665</th>\n",
       "      <td>17199</td>\n",
       "      <td>2</td>\n",
       "      <td>2020</td>\n",
       "      <td>1</td>\n",
       "      <td>609</td>\n",
       "      <td>2</td>\n",
       "      <td>150</td>\n",
       "      <td>49.6</td>\n",
       "      <td>1.0</td>\n",
       "    </tr>\n",
       "    <tr>\n",
       "      <th>10666</th>\n",
       "      <td>19499</td>\n",
       "      <td>9</td>\n",
       "      <td>2017</td>\n",
       "      <td>0</td>\n",
       "      <td>8646</td>\n",
       "      <td>2</td>\n",
       "      <td>150</td>\n",
       "      <td>47.9</td>\n",
       "      <td>1.4</td>\n",
       "    </tr>\n",
       "    <tr>\n",
       "      <th>10667</th>\n",
       "      <td>15999</td>\n",
       "      <td>9</td>\n",
       "      <td>2016</td>\n",
       "      <td>1</td>\n",
       "      <td>11855</td>\n",
       "      <td>2</td>\n",
       "      <td>150</td>\n",
       "      <td>47.9</td>\n",
       "      <td>1.4</td>\n",
       "    </tr>\n",
       "  </tbody>\n",
       "</table>\n",
       "<p>10668 rows × 9 columns</p>\n",
       "</div>"
      ],
      "text/plain": [
       "       price  model  year  transmission  mileage  fuelType  tax   mpg  \\\n",
       "0      12500      0  2017             1    15735         2  150  55.4   \n",
       "1      16500      5  2016             0    36203         0   20  64.2   \n",
       "2      11000      0  2016             1    29946         2   30  55.4   \n",
       "3      16800      3  2017             0    25952         0  145  67.3   \n",
       "4      17300      2  2019             1     1998         2  145  49.6   \n",
       "...      ...    ...   ...           ...      ...       ...  ...   ...   \n",
       "10663  16999      2  2020             1     4018         2  145  49.6   \n",
       "10664  16999      2  2020             1     1978         2  150  49.6   \n",
       "10665  17199      2  2020             1      609         2  150  49.6   \n",
       "10666  19499      9  2017             0     8646         2  150  47.9   \n",
       "10667  15999      9  2016             1    11855         2  150  47.9   \n",
       "\n",
       "       engineSize  \n",
       "0             1.4  \n",
       "1             2.0  \n",
       "2             1.4  \n",
       "3             2.0  \n",
       "4             1.0  \n",
       "...           ...  \n",
       "10663         1.0  \n",
       "10664         1.0  \n",
       "10665         1.0  \n",
       "10666         1.4  \n",
       "10667         1.4  \n",
       "\n",
       "[10668 rows x 9 columns]"
      ]
     },
     "execution_count": 419,
     "metadata": {},
     "output_type": "execute_result"
    }
   ],
   "source": [
    "from sklearn.preprocessing import LabelEncoder, OneHotEncoder\n",
    "\n",
    "categorical_columns = auto_data.columns[auto_data.dtypes == 'object']\n",
    "le = LabelEncoder()\n",
    "for col in categorical_columns:\n",
    "    auto_data[col] = le.fit_transform(auto_data[col])\n",
    "auto_data"
   ]
  },
  {
   "cell_type": "code",
   "execution_count": 420,
   "metadata": {},
   "outputs": [],
   "source": [
    "X, Y = auto_data.drop(['price'], axis=1), auto_data['price']"
   ]
  },
  {
   "cell_type": "code",
   "execution_count": 421,
   "metadata": {},
   "outputs": [],
   "source": [
    "X_train, X_test, Y_train, Y_test = train_test_split(X, Y, test_size=0.3, random_state=10)"
   ]
  },
  {
   "cell_type": "code",
   "execution_count": 405,
   "metadata": {},
   "outputs": [
    {
     "data": {
      "text/plain": [
       "(7467, 37)"
      ]
     },
     "execution_count": 405,
     "metadata": {},
     "output_type": "execute_result"
    }
   ],
   "source": [
    "X_train.shape"
   ]
  },
  {
   "cell_type": "code",
   "execution_count": 193,
   "metadata": {},
   "outputs": [
    {
     "data": {
      "text/plain": [
       "(3201, 37)"
      ]
     },
     "execution_count": 193,
     "metadata": {},
     "output_type": "execute_result"
    }
   ],
   "source": [
    "X_test.shape"
   ]
  },
  {
   "cell_type": "code",
   "execution_count": 14,
   "metadata": {},
   "outputs": [
    {
     "data": {
      "text/plain": [
       "7467"
      ]
     },
     "execution_count": 14,
     "metadata": {},
     "output_type": "execute_result"
    }
   ],
   "source": [
    "Y_train.shape[0]"
   ]
  },
  {
   "cell_type": "code",
   "execution_count": 15,
   "metadata": {},
   "outputs": [
    {
     "data": {
      "text/plain": [
       "3201"
      ]
     },
     "execution_count": 15,
     "metadata": {},
     "output_type": "execute_result"
    }
   ],
   "source": [
    "Y_test.shape[0]"
   ]
  },
  {
   "cell_type": "code",
   "execution_count": 353,
   "metadata": {},
   "outputs": [],
   "source": [
    "std_scaler = StandardScaler()\n",
    "X_train_scaled = std_scaler.fit_transform(X_train)\n",
    "X_test_scaled = std_scaler.transform(X_test)"
   ]
  },
  {
   "cell_type": "markdown",
   "metadata": {},
   "source": [
    "## LinearRegression"
   ]
  },
  {
   "cell_type": "code",
   "execution_count": 354,
   "metadata": {},
   "outputs": [
    {
     "data": {
      "text/plain": [
       "LinearRegression()"
      ]
     },
     "execution_count": 354,
     "metadata": {},
     "output_type": "execute_result"
    }
   ],
   "source": [
    "simple_LR = LinearRegression()\n",
    "simple_LR.fit(X_train_scaled, Y_train)"
   ]
  },
  {
   "cell_type": "code",
   "execution_count": 355,
   "metadata": {},
   "outputs": [
    {
     "name": "stdout",
     "output_type": "stream",
     "text": [
      "RMSE = 1018292034157705.5\n"
     ]
    }
   ],
   "source": [
    "# One-Hot encoding\n",
    "simple_LR_predictions = simple_LR.predict(X_test_scaled)\n",
    "simple_LR_rmse = metrics.mean_squared_error(Y_test, simple_LR_predictions, squared=False) #Измерение ошибки\n",
    "print(f'RMSE = {round(simple_LR_rmse, 3)}')"
   ]
  },
  {
   "cell_type": "code",
   "execution_count": 356,
   "metadata": {},
   "outputs": [
    {
     "data": {
      "text/plain": [
       "<matplotlib.collections.PathCollection at 0x18ca89b2760>"
      ]
     },
     "execution_count": 356,
     "metadata": {},
     "output_type": "execute_result"
    },
    {
     "data": {
      "image/png": "[encoded data removed]",
      "text/plain": [
       "<Figure size 576x576 with 1 Axes>"
      ]
     },
     "metadata": {
      "needs_background": "light"
     },
     "output_type": "display_data"
    }
   ],
   "source": [
    "# One-Hot encoding\n",
    "plt.figure(figsize=(8, 8))\n",
    "plt.scatter(simple_LR_predictions, Y_test)"
   ]
  },
  {
   "cell_type": "code",
   "execution_count": 357,
   "metadata": {},
   "outputs": [
    {
     "data": {
      "text/html": [
       "<div>\n",
       "<style scoped>\n",
       "    .dataframe tbody tr th:only-of-type {\n",
       "        vertical-align: middle;\n",
       "    }\n",
       "\n",
       "    .dataframe tbody tr th {\n",
       "        vertical-align: top;\n",
       "    }\n",
       "\n",
       "    .dataframe thead th {\n",
       "        text-align: right;\n",
       "    }\n",
       "</style>\n",
       "<table border=\"1\" class=\"dataframe\">\n",
       "  <thead>\n",
       "    <tr style=\"text-align: right;\">\n",
       "      <th></th>\n",
       "      <th>Coefficients</th>\n",
       "    </tr>\n",
       "  </thead>\n",
       "  <tbody>\n",
       "    <tr>\n",
       "      <th>year</th>\n",
       "      <td>4.003831e+03</td>\n",
       "    </tr>\n",
       "    <tr>\n",
       "      <th>mileage</th>\n",
       "      <td>-1.880315e+03</td>\n",
       "    </tr>\n",
       "    <tr>\n",
       "      <th>tax</th>\n",
       "      <td>-1.864299e+03</td>\n",
       "    </tr>\n",
       "    <tr>\n",
       "      <th>mpg</th>\n",
       "      <td>-3.471426e+03</td>\n",
       "    </tr>\n",
       "    <tr>\n",
       "      <th>engineSize</th>\n",
       "      <td>2.844881e+03</td>\n",
       "    </tr>\n",
       "    <tr>\n",
       "      <th>model_ A1</th>\n",
       "      <td>1.956666e+16</td>\n",
       "    </tr>\n",
       "    <tr>\n",
       "      <th>model_ A2</th>\n",
       "      <td>1.053792e+15</td>\n",
       "    </tr>\n",
       "    <tr>\n",
       "      <th>model_ A3</th>\n",
       "      <td>2.249903e+16</td>\n",
       "    </tr>\n",
       "    <tr>\n",
       "      <th>model_ A4</th>\n",
       "      <td>1.968882e+16</td>\n",
       "    </tr>\n",
       "    <tr>\n",
       "      <th>model_ A5</th>\n",
       "      <td>1.602031e+16</td>\n",
       "    </tr>\n",
       "    <tr>\n",
       "      <th>model_ A6</th>\n",
       "      <td>1.477224e+16</td>\n",
       "    </tr>\n",
       "    <tr>\n",
       "      <th>model_ A7</th>\n",
       "      <td>6.113968e+15</td>\n",
       "    </tr>\n",
       "    <tr>\n",
       "      <th>model_ A8</th>\n",
       "      <td>6.259618e+15</td>\n",
       "    </tr>\n",
       "    <tr>\n",
       "      <th>model_ Q2</th>\n",
       "      <td>1.576436e+16</td>\n",
       "    </tr>\n",
       "    <tr>\n",
       "      <th>model_ Q3</th>\n",
       "      <td>1.998830e+16</td>\n",
       "    </tr>\n",
       "    <tr>\n",
       "      <th>model_ Q5</th>\n",
       "      <td>1.638781e+16</td>\n",
       "    </tr>\n",
       "    <tr>\n",
       "      <th>model_ Q7</th>\n",
       "      <td>1.102989e+16</td>\n",
       "    </tr>\n",
       "    <tr>\n",
       "      <th>model_ Q8</th>\n",
       "      <td>4.540542e+15</td>\n",
       "    </tr>\n",
       "    <tr>\n",
       "      <th>model_ R8</th>\n",
       "      <td>3.250933e+15</td>\n",
       "    </tr>\n",
       "    <tr>\n",
       "      <th>model_ RS3</th>\n",
       "      <td>3.250933e+15</td>\n",
       "    </tr>\n",
       "    <tr>\n",
       "      <th>model_ RS4</th>\n",
       "      <td>3.179689e+15</td>\n",
       "    </tr>\n",
       "    <tr>\n",
       "      <th>model_ RS5</th>\n",
       "      <td>2.796041e+15</td>\n",
       "    </tr>\n",
       "    <tr>\n",
       "      <th>model_ RS6</th>\n",
       "      <td>3.250933e+15</td>\n",
       "    </tr>\n",
       "    <tr>\n",
       "      <th>model_ RS7</th>\n",
       "      <td>6.788674e+14</td>\n",
       "    </tr>\n",
       "    <tr>\n",
       "      <th>model_ S3</th>\n",
       "      <td>2.250040e+15</td>\n",
       "    </tr>\n",
       "    <tr>\n",
       "      <th>model_ S4</th>\n",
       "      <td>1.919227e+15</td>\n",
       "    </tr>\n",
       "    <tr>\n",
       "      <th>model_ S5</th>\n",
       "      <td>1.175675e+15</td>\n",
       "    </tr>\n",
       "    <tr>\n",
       "      <th>model_ S8</th>\n",
       "      <td>1.175675e+15</td>\n",
       "    </tr>\n",
       "    <tr>\n",
       "      <th>model_ SQ5</th>\n",
       "      <td>1.919227e+15</td>\n",
       "    </tr>\n",
       "    <tr>\n",
       "      <th>model_ SQ7</th>\n",
       "      <td>1.662322e+15</td>\n",
       "    </tr>\n",
       "    <tr>\n",
       "      <th>model_ TT</th>\n",
       "      <td>1.032640e+16</td>\n",
       "    </tr>\n",
       "    <tr>\n",
       "      <th>transmission_Automatic</th>\n",
       "      <td>1.820916e+16</td>\n",
       "    </tr>\n",
       "    <tr>\n",
       "      <th>transmission_Manual</th>\n",
       "      <td>2.069422e+16</td>\n",
       "    </tr>\n",
       "    <tr>\n",
       "      <th>transmission_Semi-Auto</th>\n",
       "      <td>1.987070e+16</td>\n",
       "    </tr>\n",
       "    <tr>\n",
       "      <th>fuelType_Diesel</th>\n",
       "      <td>3.951809e+16</td>\n",
       "    </tr>\n",
       "    <tr>\n",
       "      <th>fuelType_Hybrid</th>\n",
       "      <td>4.087138e+15</td>\n",
       "    </tr>\n",
       "    <tr>\n",
       "      <th>fuelType_Petrol</th>\n",
       "      <td>3.951056e+16</td>\n",
       "    </tr>\n",
       "  </tbody>\n",
       "</table>\n",
       "</div>"
      ],
      "text/plain": [
       "                        Coefficients\n",
       "year                    4.003831e+03\n",
       "mileage                -1.880315e+03\n",
       "tax                    -1.864299e+03\n",
       "mpg                    -3.471426e+03\n",
       "engineSize              2.844881e+03\n",
       "model_ A1               1.956666e+16\n",
       "model_ A2               1.053792e+15\n",
       "model_ A3               2.249903e+16\n",
       "model_ A4               1.968882e+16\n",
       "model_ A5               1.602031e+16\n",
       "model_ A6               1.477224e+16\n",
       "model_ A7               6.113968e+15\n",
       "model_ A8               6.259618e+15\n",
       "model_ Q2               1.576436e+16\n",
       "model_ Q3               1.998830e+16\n",
       "model_ Q5               1.638781e+16\n",
       "model_ Q7               1.102989e+16\n",
       "model_ Q8               4.540542e+15\n",
       "model_ R8               3.250933e+15\n",
       "model_ RS3              3.250933e+15\n",
       "model_ RS4              3.179689e+15\n",
       "model_ RS5              2.796041e+15\n",
       "model_ RS6              3.250933e+15\n",
       "model_ RS7              6.788674e+14\n",
       "model_ S3               2.250040e+15\n",
       "model_ S4               1.919227e+15\n",
       "model_ S5               1.175675e+15\n",
       "model_ S8               1.175675e+15\n",
       "model_ SQ5              1.919227e+15\n",
       "model_ SQ7              1.662322e+15\n",
       "model_ TT               1.032640e+16\n",
       "transmission_Automatic  1.820916e+16\n",
       "transmission_Manual     2.069422e+16\n",
       "transmission_Semi-Auto  1.987070e+16\n",
       "fuelType_Diesel         3.951809e+16\n",
       "fuelType_Hybrid         4.087138e+15\n",
       "fuelType_Petrol         3.951056e+16"
      ]
     },
     "execution_count": 357,
     "metadata": {},
     "output_type": "execute_result"
    }
   ],
   "source": [
    "# One-Hot encoding\n",
    "pd.DataFrame(simple_LR.coef_, auto_data.columns[1:], columns=['Coefficients'])"
   ]
  },
  {
   "cell_type": "code",
   "execution_count": 267,
   "metadata": {},
   "outputs": [
    {
     "name": "stdout",
     "output_type": "stream",
     "text": [
      "RMSE = 5215.371\n"
     ]
    }
   ],
   "source": [
    "# Label Encoding\n",
    "simple_LR_predictions = simple_LR.predict(X_test_scaled)\n",
    "simple_LR_rmse = metrics.mean_squared_error(Y_test, simple_LR_predictions, squared=False) #Измерение ошибки\n",
    "print(f'RMSE = {round(simple_LR_rmse, 3)}')"
   ]
  },
  {
   "cell_type": "code",
   "execution_count": 268,
   "metadata": {},
   "outputs": [
    {
     "data": {
      "text/plain": [
       "<matplotlib.collections.PathCollection at 0x18c994533a0>"
      ]
     },
     "execution_count": 268,
     "metadata": {},
     "output_type": "execute_result"
    },
    {
     "data": {
      "image/png": "[encoded data removed]",
      "text/plain": [
       "<Figure size 576x576 with 1 Axes>"
      ]
     },
     "metadata": {
      "needs_background": "light"
     },
     "output_type": "display_data"
    }
   ],
   "source": [
    "# Label Encoding\n",
    "plt.figure(figsize=(8, 8))\n",
    "plt.scatter(simple_LR_predictions, Y_test)"
   ]
  },
  {
   "cell_type": "code",
   "execution_count": 269,
   "metadata": {},
   "outputs": [
    {
     "data": {
      "text/html": [
       "<div>\n",
       "<style scoped>\n",
       "    .dataframe tbody tr th:only-of-type {\n",
       "        vertical-align: middle;\n",
       "    }\n",
       "\n",
       "    .dataframe tbody tr th {\n",
       "        vertical-align: top;\n",
       "    }\n",
       "\n",
       "    .dataframe thead th {\n",
       "        text-align: right;\n",
       "    }\n",
       "</style>\n",
       "<table border=\"1\" class=\"dataframe\">\n",
       "  <thead>\n",
       "    <tr style=\"text-align: right;\">\n",
       "      <th></th>\n",
       "      <th>Coefficients</th>\n",
       "    </tr>\n",
       "  </thead>\n",
       "  <tbody>\n",
       "    <tr>\n",
       "      <th>model</th>\n",
       "      <td>1380.643349</td>\n",
       "    </tr>\n",
       "    <tr>\n",
       "      <th>year</th>\n",
       "      <td>4685.844468</td>\n",
       "    </tr>\n",
       "    <tr>\n",
       "      <th>transmission</th>\n",
       "      <td>-129.141361</td>\n",
       "    </tr>\n",
       "    <tr>\n",
       "      <th>mileage</th>\n",
       "      <td>-2239.015798</td>\n",
       "    </tr>\n",
       "    <tr>\n",
       "      <th>fuelType</th>\n",
       "      <td>597.574476</td>\n",
       "    </tr>\n",
       "    <tr>\n",
       "      <th>tax</th>\n",
       "      <td>-1223.865100</td>\n",
       "    </tr>\n",
       "    <tr>\n",
       "      <th>mpg</th>\n",
       "      <td>-2028.518507</td>\n",
       "    </tr>\n",
       "    <tr>\n",
       "      <th>engineSize</th>\n",
       "      <td>6796.366525</td>\n",
       "    </tr>\n",
       "  </tbody>\n",
       "</table>\n",
       "</div>"
      ],
      "text/plain": [
       "              Coefficients\n",
       "model          1380.643349\n",
       "year           4685.844468\n",
       "transmission   -129.141361\n",
       "mileage       -2239.015798\n",
       "fuelType        597.574476\n",
       "tax           -1223.865100\n",
       "mpg           -2028.518507\n",
       "engineSize     6796.366525"
      ]
     },
     "execution_count": 269,
     "metadata": {},
     "output_type": "execute_result"
    }
   ],
   "source": [
    "# Label Encoding\n",
    "pd.DataFrame(simple_LR.coef_, auto_data.columns[1:], columns=['Coefficients'])"
   ]
  },
  {
   "cell_type": "code",
   "execution_count": 358,
   "metadata": {},
   "outputs": [
    {
     "data": {
      "text/plain": [
       "-7.994965307174847e+21"
      ]
     },
     "execution_count": 358,
     "metadata": {},
     "output_type": "execute_result"
    }
   ],
   "source": [
    "# One-Hot encoding\n",
    "simple_LR.score(X_test_scaled, Y_test)"
   ]
  },
  {
   "cell_type": "code",
   "execution_count": 270,
   "metadata": {},
   "outputs": [
    {
     "data": {
      "text/plain": [
       "0.7902788004224374"
      ]
     },
     "execution_count": 270,
     "metadata": {},
     "output_type": "execute_result"
    }
   ],
   "source": [
    "# Label encoding\n",
    "simple_LR.score(X_test_scaled, Y_test)"
   ]
  },
  {
   "cell_type": "markdown",
   "metadata": {},
   "source": [
    "## Lasso"
   ]
  },
  {
   "cell_type": "code",
   "execution_count": 359,
   "metadata": {},
   "outputs": [
    {
     "data": {
      "text/plain": [
       "Lasso(max_iter=10000, random_state=10)"
      ]
     },
     "execution_count": 359,
     "metadata": {},
     "output_type": "execute_result"
    }
   ],
   "source": [
    "model = Lasso(random_state=10, max_iter=10000)\n",
    "model.fit(X_train_scaled, Y_train)"
   ]
  },
  {
   "cell_type": "code",
   "execution_count": 360,
   "metadata": {},
   "outputs": [
    {
     "name": "stdout",
     "output_type": "stream",
     "text": [
      "RMSE = 3686.425\n"
     ]
    }
   ],
   "source": [
    "# One-Hot encoding\n",
    "model_predictions = model.predict(X_test_scaled)\n",
    "model_rmse = metrics.mean_squared_error(Y_test, model_predictions, squared=False) #Измерение ошибки\n",
    "print(f'RMSE = {round(model_rmse, 3)}')"
   ]
  },
  {
   "cell_type": "code",
   "execution_count": 361,
   "metadata": {},
   "outputs": [
    {
     "data": {
      "text/html": [
       "<div>\n",
       "<style scoped>\n",
       "    .dataframe tbody tr th:only-of-type {\n",
       "        vertical-align: middle;\n",
       "    }\n",
       "\n",
       "    .dataframe tbody tr th {\n",
       "        vertical-align: top;\n",
       "    }\n",
       "\n",
       "    .dataframe thead th {\n",
       "        text-align: right;\n",
       "    }\n",
       "</style>\n",
       "<table border=\"1\" class=\"dataframe\">\n",
       "  <thead>\n",
       "    <tr style=\"text-align: right;\">\n",
       "      <th></th>\n",
       "      <th>Coefficients</th>\n",
       "    </tr>\n",
       "  </thead>\n",
       "  <tbody>\n",
       "    <tr>\n",
       "      <th>year</th>\n",
       "      <td>4004.627158</td>\n",
       "    </tr>\n",
       "    <tr>\n",
       "      <th>mileage</th>\n",
       "      <td>-1883.838351</td>\n",
       "    </tr>\n",
       "    <tr>\n",
       "      <th>tax</th>\n",
       "      <td>-1886.088648</td>\n",
       "    </tr>\n",
       "    <tr>\n",
       "      <th>mpg</th>\n",
       "      <td>-3495.376281</td>\n",
       "    </tr>\n",
       "    <tr>\n",
       "      <th>engineSize</th>\n",
       "      <td>2840.801957</td>\n",
       "    </tr>\n",
       "    <tr>\n",
       "      <th>model_ A1</th>\n",
       "      <td>-969.410616</td>\n",
       "    </tr>\n",
       "    <tr>\n",
       "      <th>model_ A2</th>\n",
       "      <td>0.000000</td>\n",
       "    </tr>\n",
       "    <tr>\n",
       "      <th>model_ A3</th>\n",
       "      <td>-598.295621</td>\n",
       "    </tr>\n",
       "    <tr>\n",
       "      <th>model_ A4</th>\n",
       "      <td>-469.633487</td>\n",
       "    </tr>\n",
       "    <tr>\n",
       "      <th>model_ A5</th>\n",
       "      <td>-2.508525</td>\n",
       "    </tr>\n",
       "    <tr>\n",
       "      <th>model_ A6</th>\n",
       "      <td>164.550339</td>\n",
       "    </tr>\n",
       "    <tr>\n",
       "      <th>model_ A7</th>\n",
       "      <td>162.715316</td>\n",
       "    </tr>\n",
       "    <tr>\n",
       "      <th>model_ A8</th>\n",
       "      <td>533.779486</td>\n",
       "    </tr>\n",
       "    <tr>\n",
       "      <th>model_ Q2</th>\n",
       "      <td>-386.534379</td>\n",
       "    </tr>\n",
       "    <tr>\n",
       "      <th>model_ Q3</th>\n",
       "      <td>-0.000000</td>\n",
       "    </tr>\n",
       "    <tr>\n",
       "      <th>model_ Q5</th>\n",
       "      <td>1102.888822</td>\n",
       "    </tr>\n",
       "    <tr>\n",
       "      <th>model_ Q7</th>\n",
       "      <td>2273.329547</td>\n",
       "    </tr>\n",
       "    <tr>\n",
       "      <th>model_ Q8</th>\n",
       "      <td>1713.467203</td>\n",
       "    </tr>\n",
       "    <tr>\n",
       "      <th>model_ R8</th>\n",
       "      <td>3178.299240</td>\n",
       "    </tr>\n",
       "    <tr>\n",
       "      <th>model_ RS3</th>\n",
       "      <td>372.331867</td>\n",
       "    </tr>\n",
       "    <tr>\n",
       "      <th>model_ RS4</th>\n",
       "      <td>989.280880</td>\n",
       "    </tr>\n",
       "    <tr>\n",
       "      <th>model_ RS5</th>\n",
       "      <td>799.727359</td>\n",
       "    </tr>\n",
       "    <tr>\n",
       "      <th>model_ RS6</th>\n",
       "      <td>1455.329516</td>\n",
       "    </tr>\n",
       "    <tr>\n",
       "      <th>model_ RS7</th>\n",
       "      <td>179.070421</td>\n",
       "    </tr>\n",
       "    <tr>\n",
       "      <th>model_ S3</th>\n",
       "      <td>93.778090</td>\n",
       "    </tr>\n",
       "    <tr>\n",
       "      <th>model_ S4</th>\n",
       "      <td>88.409350</td>\n",
       "    </tr>\n",
       "    <tr>\n",
       "      <th>model_ S5</th>\n",
       "      <td>-17.657943</td>\n",
       "    </tr>\n",
       "    <tr>\n",
       "      <th>model_ S8</th>\n",
       "      <td>119.047396</td>\n",
       "    </tr>\n",
       "    <tr>\n",
       "      <th>model_ SQ5</th>\n",
       "      <td>227.896788</td>\n",
       "    </tr>\n",
       "    <tr>\n",
       "      <th>model_ SQ7</th>\n",
       "      <td>430.707356</td>\n",
       "    </tr>\n",
       "    <tr>\n",
       "      <th>model_ TT</th>\n",
       "      <td>132.826759</td>\n",
       "    </tr>\n",
       "    <tr>\n",
       "      <th>transmission_Automatic</th>\n",
       "      <td>0.000000</td>\n",
       "    </tr>\n",
       "    <tr>\n",
       "      <th>transmission_Manual</th>\n",
       "      <td>-729.895222</td>\n",
       "    </tr>\n",
       "    <tr>\n",
       "      <th>transmission_Semi-Auto</th>\n",
       "      <td>79.027275</td>\n",
       "    </tr>\n",
       "    <tr>\n",
       "      <th>fuelType_Diesel</th>\n",
       "      <td>145.484394</td>\n",
       "    </tr>\n",
       "    <tr>\n",
       "      <th>fuelType_Hybrid</th>\n",
       "      <td>1616.708755</td>\n",
       "    </tr>\n",
       "    <tr>\n",
       "      <th>fuelType_Petrol</th>\n",
       "      <td>-244.016042</td>\n",
       "    </tr>\n",
       "  </tbody>\n",
       "</table>\n",
       "</div>"
      ],
      "text/plain": [
       "                        Coefficients\n",
       "year                     4004.627158\n",
       "mileage                 -1883.838351\n",
       "tax                     -1886.088648\n",
       "mpg                     -3495.376281\n",
       "engineSize               2840.801957\n",
       "model_ A1                -969.410616\n",
       "model_ A2                   0.000000\n",
       "model_ A3                -598.295621\n",
       "model_ A4                -469.633487\n",
       "model_ A5                  -2.508525\n",
       "model_ A6                 164.550339\n",
       "model_ A7                 162.715316\n",
       "model_ A8                 533.779486\n",
       "model_ Q2                -386.534379\n",
       "model_ Q3                  -0.000000\n",
       "model_ Q5                1102.888822\n",
       "model_ Q7                2273.329547\n",
       "model_ Q8                1713.467203\n",
       "model_ R8                3178.299240\n",
       "model_ RS3                372.331867\n",
       "model_ RS4                989.280880\n",
       "model_ RS5                799.727359\n",
       "model_ RS6               1455.329516\n",
       "model_ RS7                179.070421\n",
       "model_ S3                  93.778090\n",
       "model_ S4                  88.409350\n",
       "model_ S5                 -17.657943\n",
       "model_ S8                 119.047396\n",
       "model_ SQ5                227.896788\n",
       "model_ SQ7                430.707356\n",
       "model_ TT                 132.826759\n",
       "transmission_Automatic      0.000000\n",
       "transmission_Manual      -729.895222\n",
       "transmission_Semi-Auto     79.027275\n",
       "fuelType_Diesel           145.484394\n",
       "fuelType_Hybrid          1616.708755\n",
       "fuelType_Petrol          -244.016042"
      ]
     },
     "execution_count": 361,
     "metadata": {},
     "output_type": "execute_result"
    }
   ],
   "source": [
    "# One-Hot encoding\n",
    "pd.DataFrame(model.coef_, auto_data.columns[1:], columns=['Coefficients'])"
   ]
  },
  {
   "cell_type": "code",
   "execution_count": 362,
   "metadata": {},
   "outputs": [
    {
     "data": {
      "text/plain": [
       "<matplotlib.collections.PathCollection at 0x18ca8b2f940>"
      ]
     },
     "execution_count": 362,
     "metadata": {},
     "output_type": "execute_result"
    },
    {
     "data": {
      "image/png": "[encoded data removed]",
      "text/plain": [
       "<Figure size 576x576 with 1 Axes>"
      ]
     },
     "metadata": {
      "needs_background": "light"
     },
     "output_type": "display_data"
    }
   ],
   "source": [
    "# One-Hot encoding\n",
    "plt.figure(figsize=(8, 8))\n",
    "plt.scatter(model_predictions, Y_test)"
   ]
  },
  {
   "cell_type": "code",
   "execution_count": 300,
   "metadata": {},
   "outputs": [
    {
     "name": "stdout",
     "output_type": "stream",
     "text": [
      "RMSE = 5215.21\n"
     ]
    }
   ],
   "source": [
    "# Label encoding\n",
    "model_predictions = model.predict(X_test_scaled)\n",
    "model_rmse = metrics.mean_squared_error(Y_test, model_predictions, squared=False) #Измерение ошибки\n",
    "print(f'RMSE = {round(model_rmse, 3)}')"
   ]
  },
  {
   "cell_type": "code",
   "execution_count": 301,
   "metadata": {},
   "outputs": [
    {
     "data": {
      "text/html": [
       "<div>\n",
       "<style scoped>\n",
       "    .dataframe tbody tr th:only-of-type {\n",
       "        vertical-align: middle;\n",
       "    }\n",
       "\n",
       "    .dataframe tbody tr th {\n",
       "        vertical-align: top;\n",
       "    }\n",
       "\n",
       "    .dataframe thead th {\n",
       "        text-align: right;\n",
       "    }\n",
       "</style>\n",
       "<table border=\"1\" class=\"dataframe\">\n",
       "  <thead>\n",
       "    <tr style=\"text-align: right;\">\n",
       "      <th></th>\n",
       "      <th>Coefficients</th>\n",
       "    </tr>\n",
       "  </thead>\n",
       "  <tbody>\n",
       "    <tr>\n",
       "      <th>model</th>\n",
       "      <td>1379.531709</td>\n",
       "    </tr>\n",
       "    <tr>\n",
       "      <th>year</th>\n",
       "      <td>4685.709819</td>\n",
       "    </tr>\n",
       "    <tr>\n",
       "      <th>transmission</th>\n",
       "      <td>-127.977957</td>\n",
       "    </tr>\n",
       "    <tr>\n",
       "      <th>mileage</th>\n",
       "      <td>-2238.305715</td>\n",
       "    </tr>\n",
       "    <tr>\n",
       "      <th>fuelType</th>\n",
       "      <td>595.737224</td>\n",
       "    </tr>\n",
       "    <tr>\n",
       "      <th>tax</th>\n",
       "      <td>-1220.646631</td>\n",
       "    </tr>\n",
       "    <tr>\n",
       "      <th>mpg</th>\n",
       "      <td>-2027.634078</td>\n",
       "    </tr>\n",
       "    <tr>\n",
       "      <th>engineSize</th>\n",
       "      <td>6794.121976</td>\n",
       "    </tr>\n",
       "  </tbody>\n",
       "</table>\n",
       "</div>"
      ],
      "text/plain": [
       "              Coefficients\n",
       "model          1379.531709\n",
       "year           4685.709819\n",
       "transmission   -127.977957\n",
       "mileage       -2238.305715\n",
       "fuelType        595.737224\n",
       "tax           -1220.646631\n",
       "mpg           -2027.634078\n",
       "engineSize     6794.121976"
      ]
     },
     "execution_count": 301,
     "metadata": {},
     "output_type": "execute_result"
    }
   ],
   "source": [
    "# Label encoding\n",
    "pd.DataFrame(model.coef_, auto_data.columns[1:], columns=['Coefficients'])"
   ]
  },
  {
   "cell_type": "code",
   "execution_count": 302,
   "metadata": {},
   "outputs": [
    {
     "data": {
      "text/plain": [
       "<matplotlib.collections.PathCollection at 0x18c99d7d610>"
      ]
     },
     "execution_count": 302,
     "metadata": {},
     "output_type": "execute_result"
    },
    {
     "data": {
      "image/png": "[encoded data removed]",
      "text/plain": [
       "<Figure size 576x576 with 1 Axes>"
      ]
     },
     "metadata": {
      "needs_background": "light"
     },
     "output_type": "display_data"
    }
   ],
   "source": [
    "# Label encoding\n",
    "plt.figure(figsize=(8, 8))\n",
    "plt.scatter(model_predictions, Y_test)"
   ]
  },
  {
   "cell_type": "code",
   "execution_count": 363,
   "metadata": {},
   "outputs": [
    {
     "data": {
      "text/plain": [
       "0.895218980747642"
      ]
     },
     "execution_count": 363,
     "metadata": {},
     "output_type": "execute_result"
    }
   ],
   "source": [
    "# One-Hot encoding\n",
    "model.score(X_test_scaled, Y_test)"
   ]
  },
  {
   "cell_type": "code",
   "execution_count": 303,
   "metadata": {},
   "outputs": [
    {
     "data": {
      "text/plain": [
       "0.7902917443198125"
      ]
     },
     "execution_count": 303,
     "metadata": {},
     "output_type": "execute_result"
    }
   ],
   "source": [
    "# Label encoding\n",
    "model.score(X_test_scaled, Y_test)"
   ]
  },
  {
   "cell_type": "markdown",
   "metadata": {},
   "source": [
    "## Ridge"
   ]
  },
  {
   "cell_type": "code",
   "execution_count": 364,
   "metadata": {},
   "outputs": [
    {
     "data": {
      "text/plain": [
       "Ridge()"
      ]
     },
     "execution_count": 364,
     "metadata": {},
     "output_type": "execute_result"
    }
   ],
   "source": [
    "modelRidge = Ridge()\n",
    "modelRidge.fit(X_train_scaled, Y_train)"
   ]
  },
  {
   "cell_type": "code",
   "execution_count": 365,
   "metadata": {},
   "outputs": [
    {
     "name": "stdout",
     "output_type": "stream",
     "text": [
      "RMSE = 3685.271\n"
     ]
    }
   ],
   "source": [
    "# One-Hot encoding\n",
    "modelRidge_predictions = modelRidge.predict(X_test_scaled)\n",
    "modelRidge_rmse = metrics.mean_squared_error(Y_test, modelRidge_predictions, squared=False) #Измерение ошибки\n",
    "print(f'RMSE = {round(modelRidge_rmse, 3)}')"
   ]
  },
  {
   "cell_type": "code",
   "execution_count": 366,
   "metadata": {},
   "outputs": [
    {
     "data": {
      "text/html": [
       "<div>\n",
       "<style scoped>\n",
       "    .dataframe tbody tr th:only-of-type {\n",
       "        vertical-align: middle;\n",
       "    }\n",
       "\n",
       "    .dataframe tbody tr th {\n",
       "        vertical-align: top;\n",
       "    }\n",
       "\n",
       "    .dataframe thead th {\n",
       "        text-align: right;\n",
       "    }\n",
       "</style>\n",
       "<table border=\"1\" class=\"dataframe\">\n",
       "  <thead>\n",
       "    <tr style=\"text-align: right;\">\n",
       "      <th></th>\n",
       "      <th>Coefficients</th>\n",
       "    </tr>\n",
       "  </thead>\n",
       "  <tbody>\n",
       "    <tr>\n",
       "      <th>year</th>\n",
       "      <td>4002.947883</td>\n",
       "    </tr>\n",
       "    <tr>\n",
       "      <th>mileage</th>\n",
       "      <td>-1885.211613</td>\n",
       "    </tr>\n",
       "    <tr>\n",
       "      <th>tax</th>\n",
       "      <td>-1889.598959</td>\n",
       "    </tr>\n",
       "    <tr>\n",
       "      <th>mpg</th>\n",
       "      <td>-3499.095722</td>\n",
       "    </tr>\n",
       "    <tr>\n",
       "      <th>engineSize</th>\n",
       "      <td>2834.649078</td>\n",
       "    </tr>\n",
       "    <tr>\n",
       "      <th>model_ A1</th>\n",
       "      <td>-1193.244883</td>\n",
       "    </tr>\n",
       "    <tr>\n",
       "      <th>model_ A2</th>\n",
       "      <td>0.000000</td>\n",
       "    </tr>\n",
       "    <tr>\n",
       "      <th>model_ A3</th>\n",
       "      <td>-854.955529</td>\n",
       "    </tr>\n",
       "    <tr>\n",
       "      <th>model_ A4</th>\n",
       "      <td>-693.270052</td>\n",
       "    </tr>\n",
       "    <tr>\n",
       "      <th>model_ A5</th>\n",
       "      <td>-184.541805</td>\n",
       "    </tr>\n",
       "    <tr>\n",
       "      <th>model_ A6</th>\n",
       "      <td>-1.614565</td>\n",
       "    </tr>\n",
       "    <tr>\n",
       "      <th>model_ A7</th>\n",
       "      <td>95.281358</td>\n",
       "    </tr>\n",
       "    <tr>\n",
       "      <th>model_ A8</th>\n",
       "      <td>464.894916</td>\n",
       "    </tr>\n",
       "    <tr>\n",
       "      <th>model_ Q2</th>\n",
       "      <td>-566.803932</td>\n",
       "    </tr>\n",
       "    <tr>\n",
       "      <th>model_ Q3</th>\n",
       "      <td>-227.164536</td>\n",
       "    </tr>\n",
       "    <tr>\n",
       "      <th>model_ Q5</th>\n",
       "      <td>918.098788</td>\n",
       "    </tr>\n",
       "    <tr>\n",
       "      <th>model_ Q7</th>\n",
       "      <td>2150.696977</td>\n",
       "    </tr>\n",
       "    <tr>\n",
       "      <th>model_ Q8</th>\n",
       "      <td>1663.219342</td>\n",
       "    </tr>\n",
       "    <tr>\n",
       "      <th>model_ R8</th>\n",
       "      <td>3143.904036</td>\n",
       "    </tr>\n",
       "    <tr>\n",
       "      <th>model_ RS3</th>\n",
       "      <td>336.876032</td>\n",
       "    </tr>\n",
       "    <tr>\n",
       "      <th>model_ RS4</th>\n",
       "      <td>954.931950</td>\n",
       "    </tr>\n",
       "    <tr>\n",
       "      <th>model_ RS5</th>\n",
       "      <td>769.613241</td>\n",
       "    </tr>\n",
       "    <tr>\n",
       "      <th>model_ RS6</th>\n",
       "      <td>1420.639235</td>\n",
       "    </tr>\n",
       "    <tr>\n",
       "      <th>model_ RS7</th>\n",
       "      <td>172.825187</td>\n",
       "    </tr>\n",
       "    <tr>\n",
       "      <th>model_ S3</th>\n",
       "      <td>69.373890</td>\n",
       "    </tr>\n",
       "    <tr>\n",
       "      <th>model_ S4</th>\n",
       "      <td>68.123631</td>\n",
       "    </tr>\n",
       "    <tr>\n",
       "      <th>model_ S5</th>\n",
       "      <td>-31.651517</td>\n",
       "    </tr>\n",
       "    <tr>\n",
       "      <th>model_ S8</th>\n",
       "      <td>107.356981</td>\n",
       "    </tr>\n",
       "    <tr>\n",
       "      <th>model_ SQ5</th>\n",
       "      <td>207.396536</td>\n",
       "    </tr>\n",
       "    <tr>\n",
       "      <th>model_ SQ7</th>\n",
       "      <td>413.418177</td>\n",
       "    </tr>\n",
       "    <tr>\n",
       "      <th>model_ TT</th>\n",
       "      <td>17.077265</td>\n",
       "    </tr>\n",
       "    <tr>\n",
       "      <th>transmission_Automatic</th>\n",
       "      <td>212.904366</td>\n",
       "    </tr>\n",
       "    <tr>\n",
       "      <th>transmission_Manual</th>\n",
       "      <td>-487.709217</td>\n",
       "    </tr>\n",
       "    <tr>\n",
       "      <th>transmission_Semi-Auto</th>\n",
       "      <td>312.819995</td>\n",
       "    </tr>\n",
       "    <tr>\n",
       "      <th>fuelType_Diesel</th>\n",
       "      <td>112.584411</td>\n",
       "    </tr>\n",
       "    <tr>\n",
       "      <th>fuelType_Hybrid</th>\n",
       "      <td>1615.161751</td>\n",
       "    </tr>\n",
       "    <tr>\n",
       "      <th>fuelType_Petrol</th>\n",
       "      <td>-279.684937</td>\n",
       "    </tr>\n",
       "  </tbody>\n",
       "</table>\n",
       "</div>"
      ],
      "text/plain": [
       "                        Coefficients\n",
       "year                     4002.947883\n",
       "mileage                 -1885.211613\n",
       "tax                     -1889.598959\n",
       "mpg                     -3499.095722\n",
       "engineSize               2834.649078\n",
       "model_ A1               -1193.244883\n",
       "model_ A2                   0.000000\n",
       "model_ A3                -854.955529\n",
       "model_ A4                -693.270052\n",
       "model_ A5                -184.541805\n",
       "model_ A6                  -1.614565\n",
       "model_ A7                  95.281358\n",
       "model_ A8                 464.894916\n",
       "model_ Q2                -566.803932\n",
       "model_ Q3                -227.164536\n",
       "model_ Q5                 918.098788\n",
       "model_ Q7                2150.696977\n",
       "model_ Q8                1663.219342\n",
       "model_ R8                3143.904036\n",
       "model_ RS3                336.876032\n",
       "model_ RS4                954.931950\n",
       "model_ RS5                769.613241\n",
       "model_ RS6               1420.639235\n",
       "model_ RS7                172.825187\n",
       "model_ S3                  69.373890\n",
       "model_ S4                  68.123631\n",
       "model_ S5                 -31.651517\n",
       "model_ S8                 107.356981\n",
       "model_ SQ5                207.396536\n",
       "model_ SQ7                413.418177\n",
       "model_ TT                  17.077265\n",
       "transmission_Automatic    212.904366\n",
       "transmission_Manual      -487.709217\n",
       "transmission_Semi-Auto    312.819995\n",
       "fuelType_Diesel           112.584411\n",
       "fuelType_Hybrid          1615.161751\n",
       "fuelType_Petrol          -279.684937"
      ]
     },
     "execution_count": 366,
     "metadata": {},
     "output_type": "execute_result"
    }
   ],
   "source": [
    "# One-Hot encoding\n",
    "pd.DataFrame(modelRidge.coef_, auto_data.columns[1:], columns=['Coefficients'])"
   ]
  },
  {
   "cell_type": "code",
   "execution_count": 367,
   "metadata": {},
   "outputs": [
    {
     "data": {
      "text/plain": [
       "<matplotlib.collections.PathCollection at 0x18ca8baeb80>"
      ]
     },
     "execution_count": 367,
     "metadata": {},
     "output_type": "execute_result"
    },
    {
     "data": {
      "image/png": "[encoded data removed]",
      "text/plain": [
       "<Figure size 576x576 with 1 Axes>"
      ]
     },
     "metadata": {
      "needs_background": "light"
     },
     "output_type": "display_data"
    }
   ],
   "source": [
    "# One-hot encoding\n",
    "plt.figure(figsize=(8, 8))\n",
    "plt.scatter(modelRidge_predictions, Y_test)"
   ]
  },
  {
   "cell_type": "code",
   "execution_count": 328,
   "metadata": {},
   "outputs": [
    {
     "name": "stdout",
     "output_type": "stream",
     "text": [
      "RMSE = 5215.231\n"
     ]
    }
   ],
   "source": [
    "# Label encoding\n",
    "modelRidge_predictions = modelRidge.predict(X_test_scaled)\n",
    "modelRidge_rmse = metrics.mean_squared_error(Y_test, modelRidge_predictions, squared=False) #Измерение ошибки\n",
    "print(f'RMSE = {round(modelRidge_rmse, 3)}')"
   ]
  },
  {
   "cell_type": "code",
   "execution_count": 329,
   "metadata": {},
   "outputs": [
    {
     "data": {
      "text/html": [
       "<div>\n",
       "<style scoped>\n",
       "    .dataframe tbody tr th:only-of-type {\n",
       "        vertical-align: middle;\n",
       "    }\n",
       "\n",
       "    .dataframe tbody tr th {\n",
       "        vertical-align: top;\n",
       "    }\n",
       "\n",
       "    .dataframe thead th {\n",
       "        text-align: right;\n",
       "    }\n",
       "</style>\n",
       "<table border=\"1\" class=\"dataframe\">\n",
       "  <thead>\n",
       "    <tr style=\"text-align: right;\">\n",
       "      <th></th>\n",
       "      <th>Coefficients</th>\n",
       "    </tr>\n",
       "  </thead>\n",
       "  <tbody>\n",
       "    <tr>\n",
       "      <th>model</th>\n",
       "      <td>1380.620641</td>\n",
       "    </tr>\n",
       "    <tr>\n",
       "      <th>year</th>\n",
       "      <td>4684.795764</td>\n",
       "    </tr>\n",
       "    <tr>\n",
       "      <th>transmission</th>\n",
       "      <td>-129.064209</td>\n",
       "    </tr>\n",
       "    <tr>\n",
       "      <th>mileage</th>\n",
       "      <td>-2239.390770</td>\n",
       "    </tr>\n",
       "    <tr>\n",
       "      <th>fuelType</th>\n",
       "      <td>596.750683</td>\n",
       "    </tr>\n",
       "    <tr>\n",
       "      <th>tax</th>\n",
       "      <td>-1223.171199</td>\n",
       "    </tr>\n",
       "    <tr>\n",
       "      <th>mpg</th>\n",
       "      <td>-2028.886672</td>\n",
       "    </tr>\n",
       "    <tr>\n",
       "      <th>engineSize</th>\n",
       "      <td>6794.741245</td>\n",
       "    </tr>\n",
       "  </tbody>\n",
       "</table>\n",
       "</div>"
      ],
      "text/plain": [
       "              Coefficients\n",
       "model          1380.620641\n",
       "year           4684.795764\n",
       "transmission   -129.064209\n",
       "mileage       -2239.390770\n",
       "fuelType        596.750683\n",
       "tax           -1223.171199\n",
       "mpg           -2028.886672\n",
       "engineSize     6794.741245"
      ]
     },
     "execution_count": 329,
     "metadata": {},
     "output_type": "execute_result"
    }
   ],
   "source": [
    "# Label encoding\n",
    "pd.DataFrame(modelRidge.coef_, auto_data.columns[1:], columns=['Coefficients'])"
   ]
  },
  {
   "cell_type": "code",
   "execution_count": 330,
   "metadata": {},
   "outputs": [
    {
     "data": {
      "text/plain": [
       "<matplotlib.collections.PathCollection at 0x18ca3167730>"
      ]
     },
     "execution_count": 330,
     "metadata": {},
     "output_type": "execute_result"
    },
    {
     "data": {
      "image/png": "[encoded data removed]",
      "text/plain": [
       "<Figure size 576x576 with 1 Axes>"
      ]
     },
     "metadata": {
      "needs_background": "light"
     },
     "output_type": "display_data"
    }
   ],
   "source": [
    "# Label encoding\n",
    "plt.figure(figsize=(8, 8))\n",
    "plt.scatter(modelRidge_predictions, Y_test)"
   ]
  },
  {
   "cell_type": "code",
   "execution_count": 368,
   "metadata": {},
   "outputs": [
    {
     "data": {
      "text/plain": [
       "0.8952845602572117"
      ]
     },
     "execution_count": 368,
     "metadata": {},
     "output_type": "execute_result"
    }
   ],
   "source": [
    "# One-Hot encoding\n",
    "modelRidge.score(X_test_scaled, Y_test)"
   ]
  },
  {
   "cell_type": "code",
   "execution_count": 331,
   "metadata": {},
   "outputs": [
    {
     "data": {
      "text/plain": [
       "0.7902901063679116"
      ]
     },
     "execution_count": 331,
     "metadata": {},
     "output_type": "execute_result"
    }
   ],
   "source": [
    "# Label encoding\n",
    "modelRidge.score(X_test_scaled, Y_test)"
   ]
  },
  {
   "cell_type": "markdown",
   "metadata": {},
   "source": [
    "## RidgeCV"
   ]
  },
  {
   "cell_type": "code",
   "execution_count": 369,
   "metadata": {},
   "outputs": [
    {
     "data": {
      "text/plain": [
       "RidgeCV(alphas=array([ 0.1,  1. , 10. ]))"
      ]
     },
     "execution_count": 369,
     "metadata": {},
     "output_type": "execute_result"
    }
   ],
   "source": [
    "modelRidgecv = RidgeCV()\n",
    "modelRidgecv.fit(X_train_scaled, Y_train)"
   ]
  },
  {
   "cell_type": "code",
   "execution_count": 370,
   "metadata": {},
   "outputs": [
    {
     "name": "stdout",
     "output_type": "stream",
     "text": [
      "RMSE = 3685.716\n"
     ]
    }
   ],
   "source": [
    "# One-hot encoding\n",
    "modelRidgecv_predictions = modelRidgecv.predict(X_test_scaled)\n",
    "modelRidgecv_rmse = metrics.mean_squared_error(Y_test, modelRidgecv_predictions, squared=False) #Измерение ошибки\n",
    "print(f'RMSE = {round(modelRidgecv_rmse, 3)}')"
   ]
  },
  {
   "cell_type": "code",
   "execution_count": 371,
   "metadata": {},
   "outputs": [
    {
     "data": {
      "text/html": [
       "<div>\n",
       "<style scoped>\n",
       "    .dataframe tbody tr th:only-of-type {\n",
       "        vertical-align: middle;\n",
       "    }\n",
       "\n",
       "    .dataframe tbody tr th {\n",
       "        vertical-align: top;\n",
       "    }\n",
       "\n",
       "    .dataframe thead th {\n",
       "        text-align: right;\n",
       "    }\n",
       "</style>\n",
       "<table border=\"1\" class=\"dataframe\">\n",
       "  <thead>\n",
       "    <tr style=\"text-align: right;\">\n",
       "      <th></th>\n",
       "      <th>Coefficients</th>\n",
       "    </tr>\n",
       "  </thead>\n",
       "  <tbody>\n",
       "    <tr>\n",
       "      <th>year</th>\n",
       "      <td>3997.545603</td>\n",
       "    </tr>\n",
       "    <tr>\n",
       "      <th>mileage</th>\n",
       "      <td>-1890.193764</td>\n",
       "    </tr>\n",
       "    <tr>\n",
       "      <th>tax</th>\n",
       "      <td>-1878.700566</td>\n",
       "    </tr>\n",
       "    <tr>\n",
       "      <th>mpg</th>\n",
       "      <td>-3483.165923</td>\n",
       "    </tr>\n",
       "    <tr>\n",
       "      <th>engineSize</th>\n",
       "      <td>2837.463878</td>\n",
       "    </tr>\n",
       "    <tr>\n",
       "      <th>model_ A1</th>\n",
       "      <td>-1192.529622</td>\n",
       "    </tr>\n",
       "    <tr>\n",
       "      <th>model_ A2</th>\n",
       "      <td>0.000000</td>\n",
       "    </tr>\n",
       "    <tr>\n",
       "      <th>model_ A3</th>\n",
       "      <td>-854.225111</td>\n",
       "    </tr>\n",
       "    <tr>\n",
       "      <th>model_ A4</th>\n",
       "      <td>-692.760169</td>\n",
       "    </tr>\n",
       "    <tr>\n",
       "      <th>model_ A5</th>\n",
       "      <td>-185.043169</td>\n",
       "    </tr>\n",
       "    <tr>\n",
       "      <th>model_ A6</th>\n",
       "      <td>-1.867637</td>\n",
       "    </tr>\n",
       "    <tr>\n",
       "      <th>model_ A7</th>\n",
       "      <td>94.649365</td>\n",
       "    </tr>\n",
       "    <tr>\n",
       "      <th>model_ A8</th>\n",
       "      <td>463.646437</td>\n",
       "    </tr>\n",
       "    <tr>\n",
       "      <th>model_ Q2</th>\n",
       "      <td>-565.629959</td>\n",
       "    </tr>\n",
       "    <tr>\n",
       "      <th>model_ Q3</th>\n",
       "      <td>-225.869029</td>\n",
       "    </tr>\n",
       "    <tr>\n",
       "      <th>model_ Q5</th>\n",
       "      <td>918.153244</td>\n",
       "    </tr>\n",
       "    <tr>\n",
       "      <th>model_ Q7</th>\n",
       "      <td>2149.019099</td>\n",
       "    </tr>\n",
       "    <tr>\n",
       "      <th>model_ Q8</th>\n",
       "      <td>1662.407466</td>\n",
       "    </tr>\n",
       "    <tr>\n",
       "      <th>model_ R8</th>\n",
       "      <td>3139.191894</td>\n",
       "    </tr>\n",
       "    <tr>\n",
       "      <th>model_ RS3</th>\n",
       "      <td>336.284677</td>\n",
       "    </tr>\n",
       "    <tr>\n",
       "      <th>model_ RS4</th>\n",
       "      <td>953.553113</td>\n",
       "    </tr>\n",
       "    <tr>\n",
       "      <th>model_ RS5</th>\n",
       "      <td>768.560093</td>\n",
       "    </tr>\n",
       "    <tr>\n",
       "      <th>model_ RS6</th>\n",
       "      <td>1418.305025</td>\n",
       "    </tr>\n",
       "    <tr>\n",
       "      <th>model_ RS7</th>\n",
       "      <td>171.901791</td>\n",
       "    </tr>\n",
       "    <tr>\n",
       "      <th>model_ S3</th>\n",
       "      <td>69.069966</td>\n",
       "    </tr>\n",
       "    <tr>\n",
       "      <th>model_ S4</th>\n",
       "      <td>67.791069</td>\n",
       "    </tr>\n",
       "    <tr>\n",
       "      <th>model_ S5</th>\n",
       "      <td>-32.103459</td>\n",
       "    </tr>\n",
       "    <tr>\n",
       "      <th>model_ S8</th>\n",
       "      <td>106.461341</td>\n",
       "    </tr>\n",
       "    <tr>\n",
       "      <th>model_ SQ5</th>\n",
       "      <td>207.057929</td>\n",
       "    </tr>\n",
       "    <tr>\n",
       "      <th>model_ SQ7</th>\n",
       "      <td>412.612773</td>\n",
       "    </tr>\n",
       "    <tr>\n",
       "      <th>model_ TT</th>\n",
       "      <td>16.841067</td>\n",
       "    </tr>\n",
       "    <tr>\n",
       "      <th>transmission_Automatic</th>\n",
       "      <td>214.455276</td>\n",
       "    </tr>\n",
       "    <tr>\n",
       "      <th>transmission_Manual</th>\n",
       "      <td>-489.670502</td>\n",
       "    </tr>\n",
       "    <tr>\n",
       "      <th>transmission_Semi-Auto</th>\n",
       "      <td>313.441336</td>\n",
       "    </tr>\n",
       "    <tr>\n",
       "      <th>fuelType_Diesel</th>\n",
       "      <td>110.790525</td>\n",
       "    </tr>\n",
       "    <tr>\n",
       "      <th>fuelType_Hybrid</th>\n",
       "      <td>1607.501792</td>\n",
       "    </tr>\n",
       "    <tr>\n",
       "      <th>fuelType_Petrol</th>\n",
       "      <td>-277.098331</td>\n",
       "    </tr>\n",
       "  </tbody>\n",
       "</table>\n",
       "</div>"
      ],
      "text/plain": [
       "                        Coefficients\n",
       "year                     3997.545603\n",
       "mileage                 -1890.193764\n",
       "tax                     -1878.700566\n",
       "mpg                     -3483.165923\n",
       "engineSize               2837.463878\n",
       "model_ A1               -1192.529622\n",
       "model_ A2                   0.000000\n",
       "model_ A3                -854.225111\n",
       "model_ A4                -692.760169\n",
       "model_ A5                -185.043169\n",
       "model_ A6                  -1.867637\n",
       "model_ A7                  94.649365\n",
       "model_ A8                 463.646437\n",
       "model_ Q2                -565.629959\n",
       "model_ Q3                -225.869029\n",
       "model_ Q5                 918.153244\n",
       "model_ Q7                2149.019099\n",
       "model_ Q8                1662.407466\n",
       "model_ R8                3139.191894\n",
       "model_ RS3                336.284677\n",
       "model_ RS4                953.553113\n",
       "model_ RS5                768.560093\n",
       "model_ RS6               1418.305025\n",
       "model_ RS7                171.901791\n",
       "model_ S3                  69.069966\n",
       "model_ S4                  67.791069\n",
       "model_ S5                 -32.103459\n",
       "model_ S8                 106.461341\n",
       "model_ SQ5                207.057929\n",
       "model_ SQ7                412.612773\n",
       "model_ TT                  16.841067\n",
       "transmission_Automatic    214.455276\n",
       "transmission_Manual      -489.670502\n",
       "transmission_Semi-Auto    313.441336\n",
       "fuelType_Diesel           110.790525\n",
       "fuelType_Hybrid          1607.501792\n",
       "fuelType_Petrol          -277.098331"
      ]
     },
     "execution_count": 371,
     "metadata": {},
     "output_type": "execute_result"
    }
   ],
   "source": [
    "# One-hot encoding\n",
    "pd.DataFrame(modelRidgecv.coef_, auto_data.columns[1:], columns=['Coefficients'])"
   ]
  },
  {
   "cell_type": "code",
   "execution_count": 333,
   "metadata": {},
   "outputs": [
    {
     "name": "stdout",
     "output_type": "stream",
     "text": [
      "RMSE = 5213.988\n"
     ]
    }
   ],
   "source": [
    "# Label encoding\n",
    "modelRidgecv_predictions = modelRidgecv.predict(X_test_scaled)\n",
    "modelRidgecv_rmse = metrics.mean_squared_error(Y_test, modelRidgecv_predictions, squared=False) #Измерение ошибки\n",
    "print(f'RMSE = {round(modelRidgecv_rmse, 3)}')"
   ]
  },
  {
   "cell_type": "code",
   "execution_count": 334,
   "metadata": {},
   "outputs": [
    {
     "data": {
      "text/html": [
       "<div>\n",
       "<style scoped>\n",
       "    .dataframe tbody tr th:only-of-type {\n",
       "        vertical-align: middle;\n",
       "    }\n",
       "\n",
       "    .dataframe tbody tr th {\n",
       "        vertical-align: top;\n",
       "    }\n",
       "\n",
       "    .dataframe thead th {\n",
       "        text-align: right;\n",
       "    }\n",
       "</style>\n",
       "<table border=\"1\" class=\"dataframe\">\n",
       "  <thead>\n",
       "    <tr style=\"text-align: right;\">\n",
       "      <th></th>\n",
       "      <th>Coefficients</th>\n",
       "    </tr>\n",
       "  </thead>\n",
       "  <tbody>\n",
       "    <tr>\n",
       "      <th>model</th>\n",
       "      <td>1380.417395</td>\n",
       "    </tr>\n",
       "    <tr>\n",
       "      <th>year</th>\n",
       "      <td>4675.407224</td>\n",
       "    </tr>\n",
       "    <tr>\n",
       "      <th>transmission</th>\n",
       "      <td>-128.373537</td>\n",
       "    </tr>\n",
       "    <tr>\n",
       "      <th>mileage</th>\n",
       "      <td>-2242.728707</td>\n",
       "    </tr>\n",
       "    <tr>\n",
       "      <th>fuelType</th>\n",
       "      <td>589.378374</td>\n",
       "    </tr>\n",
       "    <tr>\n",
       "      <th>tax</th>\n",
       "      <td>-1216.937056</td>\n",
       "    </tr>\n",
       "    <tr>\n",
       "      <th>mpg</th>\n",
       "      <td>-2032.168362</td>\n",
       "    </tr>\n",
       "    <tr>\n",
       "      <th>engineSize</th>\n",
       "      <td>6780.163443</td>\n",
       "    </tr>\n",
       "  </tbody>\n",
       "</table>\n",
       "</div>"
      ],
      "text/plain": [
       "              Coefficients\n",
       "model          1380.417395\n",
       "year           4675.407224\n",
       "transmission   -128.373537\n",
       "mileage       -2242.728707\n",
       "fuelType        589.378374\n",
       "tax           -1216.937056\n",
       "mpg           -2032.168362\n",
       "engineSize     6780.163443"
      ]
     },
     "execution_count": 334,
     "metadata": {},
     "output_type": "execute_result"
    }
   ],
   "source": [
    "# Label encoding\n",
    "pd.DataFrame(modelRidgecv.coef_, auto_data.columns[1:], columns=['Coefficients'])"
   ]
  },
  {
   "cell_type": "code",
   "execution_count": 372,
   "metadata": {},
   "outputs": [
    {
     "data": {
      "text/plain": [
       "0.8952592399401976"
      ]
     },
     "execution_count": 372,
     "metadata": {},
     "output_type": "execute_result"
    }
   ],
   "source": [
    "# One-hot\n",
    "modelRidgecv.score(X_test_scaled, Y_test)"
   ]
  },
  {
   "cell_type": "code",
   "execution_count": 335,
   "metadata": {},
   "outputs": [
    {
     "data": {
      "text/plain": [
       "0.7903900633124294"
      ]
     },
     "execution_count": 335,
     "metadata": {},
     "output_type": "execute_result"
    }
   ],
   "source": [
    "# Label\n",
    "modelRidgecv.score(X_test_scaled, Y_test)"
   ]
  },
  {
   "cell_type": "markdown",
   "metadata": {},
   "source": [
    "## LassoCV"
   ]
  },
  {
   "cell_type": "code",
   "execution_count": 374,
   "metadata": {},
   "outputs": [
    {
     "data": {
      "text/plain": [
       "LassoCV()"
      ]
     },
     "execution_count": 374,
     "metadata": {},
     "output_type": "execute_result"
    }
   ],
   "source": [
    "modelLassocv = LassoCV()\n",
    "modelLassocv.fit(X_train_scaled, Y_train)"
   ]
  },
  {
   "cell_type": "code",
   "execution_count": 375,
   "metadata": {},
   "outputs": [
    {
     "name": "stdout",
     "output_type": "stream",
     "text": [
      "RMSE = 3688.398\n"
     ]
    }
   ],
   "source": [
    "# One-Hot encoding\n",
    "modelLassocv_predictions = modelLassocv.predict(X_test_scaled)\n",
    "modelLassocv_rmse = metrics.mean_squared_error(Y_test, modelLassocv_predictions, squared=False) #Измерение ошибки\n",
    "print(f'RMSE = {round(modelLassocv_rmse, 3)}')"
   ]
  },
  {
   "cell_type": "code",
   "execution_count": 337,
   "metadata": {},
   "outputs": [
    {
     "name": "stdout",
     "output_type": "stream",
     "text": [
      "RMSE = 5213.988\n"
     ]
    }
   ],
   "source": [
    "# Label encoding\n",
    "modelRidgecv_predictions = modelRidgecv.predict(X_test_scaled)\n",
    "modelRidgecv_rmse = metrics.mean_squared_error(Y_test, modelRidgecv_predictions, squared=False) #Измерение ошибки\n",
    "print(f'RMSE = {round(modelRidgecv_rmse, 3)}')"
   ]
  },
  {
   "cell_type": "markdown",
   "metadata": {},
   "source": [
    "## LassoCV с alphas"
   ]
  },
  {
   "cell_type": "code",
   "execution_count": 376,
   "metadata": {},
   "outputs": [
    {
     "data": {
      "text/plain": [
       "array([ 1.        ,  1.09090909,  1.18181818,  1.27272727,  1.36363636,\n",
       "        1.45454545,  1.54545455,  1.63636364,  1.72727273,  1.81818182,\n",
       "        1.90909091,  2.        ,  2.09090909,  2.18181818,  2.27272727,\n",
       "        2.36363636,  2.45454545,  2.54545455,  2.63636364,  2.72727273,\n",
       "        2.81818182,  2.90909091,  3.        ,  3.09090909,  3.18181818,\n",
       "        3.27272727,  3.36363636,  3.45454545,  3.54545455,  3.63636364,\n",
       "        3.72727273,  3.81818182,  3.90909091,  4.        ,  4.09090909,\n",
       "        4.18181818,  4.27272727,  4.36363636,  4.45454545,  4.54545455,\n",
       "        4.63636364,  4.72727273,  4.81818182,  4.90909091,  5.        ,\n",
       "        5.09090909,  5.18181818,  5.27272727,  5.36363636,  5.45454545,\n",
       "        5.54545455,  5.63636364,  5.72727273,  5.81818182,  5.90909091,\n",
       "        6.        ,  6.09090909,  6.18181818,  6.27272727,  6.36363636,\n",
       "        6.45454545,  6.54545455,  6.63636364,  6.72727273,  6.81818182,\n",
       "        6.90909091,  7.        ,  7.09090909,  7.18181818,  7.27272727,\n",
       "        7.36363636,  7.45454545,  7.54545455,  7.63636364,  7.72727273,\n",
       "        7.81818182,  7.90909091,  8.        ,  8.09090909,  8.18181818,\n",
       "        8.27272727,  8.36363636,  8.45454545,  8.54545455,  8.63636364,\n",
       "        8.72727273,  8.81818182,  8.90909091,  9.        ,  9.09090909,\n",
       "        9.18181818,  9.27272727,  9.36363636,  9.45454545,  9.54545455,\n",
       "        9.63636364,  9.72727273,  9.81818182,  9.90909091, 10.        ])"
      ]
     },
     "execution_count": 376,
     "metadata": {},
     "output_type": "execute_result"
    }
   ],
   "source": [
    "alphas = np.linspace(1, 10, 100)\n",
    "alphas"
   ]
  },
  {
   "cell_type": "code",
   "execution_count": 377,
   "metadata": {},
   "outputs": [
    {
     "name": "stdout",
     "output_type": "stream",
     "text": [
      "RMSE = 3686.425\n"
     ]
    }
   ],
   "source": [
    "# One-Hot encoding\n",
    "model = LassoCV(alphas=alphas, max_iter=10000)\n",
    "model.fit(X_train_scaled, Y_train)\n",
    "model_predictions = model.predict(X_test_scaled)\n",
    "model_rmse = metrics.mean_squared_error(Y_test, model_predictions, squared=False) #Измерение ошибки\n",
    "print(f'RMSE = {round(model_rmse, 3)}')"
   ]
  },
  {
   "cell_type": "code",
   "execution_count": 338,
   "metadata": {},
   "outputs": [
    {
     "name": "stdout",
     "output_type": "stream",
     "text": [
      "RMSE = 5214.366\n"
     ]
    }
   ],
   "source": [
    "# Label encoding\n",
    "model = LassoCV(alphas=alphas, max_iter=10000)\n",
    "model.fit(X_train_scaled, Y_train)\n",
    "model_predictions = model.predict(X_test_scaled)\n",
    "model_rmse = metrics.mean_squared_error(Y_test, model_predictions, squared=False) #Измерение ошибки\n",
    "print(f'RMSE = {round(model_rmse, 3)}')"
   ]
  },
  {
   "cell_type": "markdown",
   "metadata": {},
   "source": [
    "## Случайный лес"
   ]
  },
  {
   "cell_type": "code",
   "execution_count": 378,
   "metadata": {},
   "outputs": [],
   "source": [
    "model = RandomForestRegressor(random_state = 10, n_estimators = 100)"
   ]
  },
  {
   "cell_type": "code",
   "execution_count": 379,
   "metadata": {},
   "outputs": [
    {
     "name": "stdout",
     "output_type": "stream",
     "text": [
      "RMSE = 2279.044\n"
     ]
    }
   ],
   "source": [
    "# One-hot encoding\n",
    "model = RandomForestRegressor(random_state = 10, n_estimators = 100)\n",
    "model.fit(X_train, Y_train)\n",
    "model_predictions = model.predict(X_test)\n",
    "\n",
    "model_rmse = metrics.mean_squared_error(Y_test, model_predictions, squared=False) #Измерение ошибки\n",
    "print(f'RMSE = {round(model_rmse, 3)}')"
   ]
  },
  {
   "cell_type": "code",
   "execution_count": 380,
   "metadata": {},
   "outputs": [
    {
     "data": {
      "text/html": [
       "<div>\n",
       "<style scoped>\n",
       "    .dataframe tbody tr th:only-of-type {\n",
       "        vertical-align: middle;\n",
       "    }\n",
       "\n",
       "    .dataframe tbody tr th {\n",
       "        vertical-align: top;\n",
       "    }\n",
       "\n",
       "    .dataframe thead th {\n",
       "        text-align: right;\n",
       "    }\n",
       "</style>\n",
       "<table border=\"1\" class=\"dataframe\">\n",
       "  <thead>\n",
       "    <tr style=\"text-align: right;\">\n",
       "      <th></th>\n",
       "      <th>Importance</th>\n",
       "    </tr>\n",
       "  </thead>\n",
       "  <tbody>\n",
       "    <tr>\n",
       "      <th>year</th>\n",
       "      <td>0.213449</td>\n",
       "    </tr>\n",
       "    <tr>\n",
       "      <th>mileage</th>\n",
       "      <td>0.051249</td>\n",
       "    </tr>\n",
       "    <tr>\n",
       "      <th>tax</th>\n",
       "      <td>0.019374</td>\n",
       "    </tr>\n",
       "    <tr>\n",
       "      <th>mpg</th>\n",
       "      <td>0.444886</td>\n",
       "    </tr>\n",
       "    <tr>\n",
       "      <th>engineSize</th>\n",
       "      <td>0.171782</td>\n",
       "    </tr>\n",
       "    <tr>\n",
       "      <th>model_ A1</th>\n",
       "      <td>0.006168</td>\n",
       "    </tr>\n",
       "    <tr>\n",
       "      <th>model_ A2</th>\n",
       "      <td>0.000000</td>\n",
       "    </tr>\n",
       "    <tr>\n",
       "      <th>model_ A3</th>\n",
       "      <td>0.002001</td>\n",
       "    </tr>\n",
       "    <tr>\n",
       "      <th>model_ A4</th>\n",
       "      <td>0.003671</td>\n",
       "    </tr>\n",
       "    <tr>\n",
       "      <th>model_ A5</th>\n",
       "      <td>0.001043</td>\n",
       "    </tr>\n",
       "    <tr>\n",
       "      <th>model_ A6</th>\n",
       "      <td>0.001850</td>\n",
       "    </tr>\n",
       "    <tr>\n",
       "      <th>model_ A7</th>\n",
       "      <td>0.000933</td>\n",
       "    </tr>\n",
       "    <tr>\n",
       "      <th>model_ A8</th>\n",
       "      <td>0.001050</td>\n",
       "    </tr>\n",
       "    <tr>\n",
       "      <th>model_ Q2</th>\n",
       "      <td>0.000773</td>\n",
       "    </tr>\n",
       "    <tr>\n",
       "      <th>model_ Q3</th>\n",
       "      <td>0.001397</td>\n",
       "    </tr>\n",
       "    <tr>\n",
       "      <th>model_ Q5</th>\n",
       "      <td>0.005071</td>\n",
       "    </tr>\n",
       "    <tr>\n",
       "      <th>model_ Q7</th>\n",
       "      <td>0.009235</td>\n",
       "    </tr>\n",
       "    <tr>\n",
       "      <th>model_ Q8</th>\n",
       "      <td>0.002254</td>\n",
       "    </tr>\n",
       "    <tr>\n",
       "      <th>model_ R8</th>\n",
       "      <td>0.021463</td>\n",
       "    </tr>\n",
       "    <tr>\n",
       "      <th>model_ RS3</th>\n",
       "      <td>0.000183</td>\n",
       "    </tr>\n",
       "    <tr>\n",
       "      <th>model_ RS4</th>\n",
       "      <td>0.000195</td>\n",
       "    </tr>\n",
       "    <tr>\n",
       "      <th>model_ RS5</th>\n",
       "      <td>0.000111</td>\n",
       "    </tr>\n",
       "    <tr>\n",
       "      <th>model_ RS6</th>\n",
       "      <td>0.002231</td>\n",
       "    </tr>\n",
       "    <tr>\n",
       "      <th>model_ RS7</th>\n",
       "      <td>0.000036</td>\n",
       "    </tr>\n",
       "    <tr>\n",
       "      <th>model_ S3</th>\n",
       "      <td>0.000011</td>\n",
       "    </tr>\n",
       "    <tr>\n",
       "      <th>model_ S4</th>\n",
       "      <td>0.000036</td>\n",
       "    </tr>\n",
       "    <tr>\n",
       "      <th>model_ S5</th>\n",
       "      <td>0.000002</td>\n",
       "    </tr>\n",
       "    <tr>\n",
       "      <th>model_ S8</th>\n",
       "      <td>0.000069</td>\n",
       "    </tr>\n",
       "    <tr>\n",
       "      <th>model_ SQ5</th>\n",
       "      <td>0.000473</td>\n",
       "    </tr>\n",
       "    <tr>\n",
       "      <th>model_ SQ7</th>\n",
       "      <td>0.000025</td>\n",
       "    </tr>\n",
       "    <tr>\n",
       "      <th>model_ TT</th>\n",
       "      <td>0.000896</td>\n",
       "    </tr>\n",
       "    <tr>\n",
       "      <th>transmission_Automatic</th>\n",
       "      <td>0.001054</td>\n",
       "    </tr>\n",
       "    <tr>\n",
       "      <th>transmission_Manual</th>\n",
       "      <td>0.023206</td>\n",
       "    </tr>\n",
       "    <tr>\n",
       "      <th>transmission_Semi-Auto</th>\n",
       "      <td>0.001229</td>\n",
       "    </tr>\n",
       "    <tr>\n",
       "      <th>fuelType_Diesel</th>\n",
       "      <td>0.005336</td>\n",
       "    </tr>\n",
       "    <tr>\n",
       "      <th>fuelType_Hybrid</th>\n",
       "      <td>0.001222</td>\n",
       "    </tr>\n",
       "    <tr>\n",
       "      <th>fuelType_Petrol</th>\n",
       "      <td>0.006038</td>\n",
       "    </tr>\n",
       "  </tbody>\n",
       "</table>\n",
       "</div>"
      ],
      "text/plain": [
       "                        Importance\n",
       "year                      0.213449\n",
       "mileage                   0.051249\n",
       "tax                       0.019374\n",
       "mpg                       0.444886\n",
       "engineSize                0.171782\n",
       "model_ A1                 0.006168\n",
       "model_ A2                 0.000000\n",
       "model_ A3                 0.002001\n",
       "model_ A4                 0.003671\n",
       "model_ A5                 0.001043\n",
       "model_ A6                 0.001850\n",
       "model_ A7                 0.000933\n",
       "model_ A8                 0.001050\n",
       "model_ Q2                 0.000773\n",
       "model_ Q3                 0.001397\n",
       "model_ Q5                 0.005071\n",
       "model_ Q7                 0.009235\n",
       "model_ Q8                 0.002254\n",
       "model_ R8                 0.021463\n",
       "model_ RS3                0.000183\n",
       "model_ RS4                0.000195\n",
       "model_ RS5                0.000111\n",
       "model_ RS6                0.002231\n",
       "model_ RS7                0.000036\n",
       "model_ S3                 0.000011\n",
       "model_ S4                 0.000036\n",
       "model_ S5                 0.000002\n",
       "model_ S8                 0.000069\n",
       "model_ SQ5                0.000473\n",
       "model_ SQ7                0.000025\n",
       "model_ TT                 0.000896\n",
       "transmission_Automatic    0.001054\n",
       "transmission_Manual       0.023206\n",
       "transmission_Semi-Auto    0.001229\n",
       "fuelType_Diesel           0.005336\n",
       "fuelType_Hybrid           0.001222\n",
       "fuelType_Petrol           0.006038"
      ]
     },
     "execution_count": 380,
     "metadata": {},
     "output_type": "execute_result"
    }
   ],
   "source": [
    "# One-hot encoding\n",
    "pd.DataFrame(model.feature_importances_, auto_data.columns[1:], columns=['Importance'])"
   ]
  },
  {
   "cell_type": "code",
   "execution_count": 381,
   "metadata": {},
   "outputs": [
    {
     "data": {
      "text/plain": [
       "<matplotlib.collections.PathCollection at 0x18ca31a1eb0>"
      ]
     },
     "execution_count": 381,
     "metadata": {},
     "output_type": "execute_result"
    },
    {
     "data": {
      "image/png": "[encoded data removed]",
      "text/plain": [
       "<Figure size 576x576 with 1 Axes>"
      ]
     },
     "metadata": {
      "needs_background": "light"
     },
     "output_type": "display_data"
    }
   ],
   "source": [
    "# One-hot encoding\n",
    "plt.figure(figsize=(8, 8))\n",
    "plt.scatter(predictions, Y_test)"
   ]
  },
  {
   "cell_type": "code",
   "execution_count": 341,
   "metadata": {},
   "outputs": [
    {
     "name": "stdout",
     "output_type": "stream",
     "text": [
      "RMSE = 2274.573\n"
     ]
    }
   ],
   "source": [
    "# Label encoding\n",
    "model = RandomForestRegressor(random_state = 10, n_estimators = 100)\n",
    "model.fit(X_train, Y_train)\n",
    "model_predictions = model.predict(X_test)\n",
    "\n",
    "model_rmse = metrics.mean_squared_error(Y_test, model_predictions, squared=False) #Измерение ошибки\n",
    "print(f'RMSE = {round(model_rmse, 3)}')"
   ]
  },
  {
   "cell_type": "code",
   "execution_count": 343,
   "metadata": {},
   "outputs": [
    {
     "data": {
      "text/html": [
       "<div>\n",
       "<style scoped>\n",
       "    .dataframe tbody tr th:only-of-type {\n",
       "        vertical-align: middle;\n",
       "    }\n",
       "\n",
       "    .dataframe tbody tr th {\n",
       "        vertical-align: top;\n",
       "    }\n",
       "\n",
       "    .dataframe thead th {\n",
       "        text-align: right;\n",
       "    }\n",
       "</style>\n",
       "<table border=\"1\" class=\"dataframe\">\n",
       "  <thead>\n",
       "    <tr style=\"text-align: right;\">\n",
       "      <th></th>\n",
       "      <th>Importance</th>\n",
       "    </tr>\n",
       "  </thead>\n",
       "  <tbody>\n",
       "    <tr>\n",
       "      <th>model</th>\n",
       "      <td>0.058530</td>\n",
       "    </tr>\n",
       "    <tr>\n",
       "      <th>year</th>\n",
       "      <td>0.221071</td>\n",
       "    </tr>\n",
       "    <tr>\n",
       "      <th>transmission</th>\n",
       "      <td>0.005310</td>\n",
       "    </tr>\n",
       "    <tr>\n",
       "      <th>mileage</th>\n",
       "      <td>0.051023</td>\n",
       "    </tr>\n",
       "    <tr>\n",
       "      <th>fuelType</th>\n",
       "      <td>0.006196</td>\n",
       "    </tr>\n",
       "    <tr>\n",
       "      <th>tax</th>\n",
       "      <td>0.033410</td>\n",
       "    </tr>\n",
       "    <tr>\n",
       "      <th>mpg</th>\n",
       "      <td>0.438803</td>\n",
       "    </tr>\n",
       "    <tr>\n",
       "      <th>engineSize</th>\n",
       "      <td>0.185657</td>\n",
       "    </tr>\n",
       "  </tbody>\n",
       "</table>\n",
       "</div>"
      ],
      "text/plain": [
       "              Importance\n",
       "model           0.058530\n",
       "year            0.221071\n",
       "transmission    0.005310\n",
       "mileage         0.051023\n",
       "fuelType        0.006196\n",
       "tax             0.033410\n",
       "mpg             0.438803\n",
       "engineSize      0.185657"
      ]
     },
     "execution_count": 343,
     "metadata": {},
     "output_type": "execute_result"
    }
   ],
   "source": [
    "# Label encoding\n",
    "pd.DataFrame(model.feature_importances_, auto_data.columns[1:], columns=['Importance'])"
   ]
  },
  {
   "cell_type": "code",
   "execution_count": 344,
   "metadata": {},
   "outputs": [
    {
     "data": {
      "text/plain": [
       "<matplotlib.collections.PathCollection at 0x18ca8a819a0>"
      ]
     },
     "execution_count": 344,
     "metadata": {},
     "output_type": "execute_result"
    },
    {
     "data": {
      "image/png": "[encoded data removed]",
      "text/plain": [
       "<Figure size 576x576 with 1 Axes>"
      ]
     },
     "metadata": {
      "needs_background": "light"
     },
     "output_type": "display_data"
    }
   ],
   "source": [
    "# Label encoding\n",
    "plt.figure(figsize=(8, 8))\n",
    "plt.scatter(predictions, Y_test)"
   ]
  },
  {
   "cell_type": "code",
   "execution_count": 382,
   "metadata": {},
   "outputs": [
    {
     "data": {
      "text/plain": [
       "0.9599523314993386"
      ]
     },
     "execution_count": 382,
     "metadata": {},
     "output_type": "execute_result"
    }
   ],
   "source": [
    "# One-hot encoding\n",
    "model.score(X_test, Y_test)"
   ]
  },
  {
   "cell_type": "code",
   "execution_count": 348,
   "metadata": {},
   "outputs": [
    {
     "data": {
      "text/plain": [
       "0.9601093038491492"
      ]
     },
     "execution_count": 348,
     "metadata": {},
     "output_type": "execute_result"
    }
   ],
   "source": [
    "# Label encoding\n",
    "model.score(X_test, Y_test)"
   ]
  },
  {
   "cell_type": "markdown",
   "metadata": {},
   "source": [
    "Модель, построенная на методе RandomForest, лучше предсказывает работает на тестовых данных, чем построенная на классическом LinearRegression и методах с регуляризацией Ridge и Lasso (даже с кросс-валидацией). One-hot кодирование лучше использовать с методами Lasso, Ridge, а label кодирование - с RandomForest."
   ]
  }
 ],
 "metadata": {
  "kernelspec": {
   "display_name": "Python 3",
   "language": "python",
   "name": "python3"
  },
  "language_info": {
   "codemirror_mode": {
    "name": "ipython",
    "version": 3
   },
   "file_extension": ".py",
   "mimetype": "text/x-python",
   "name": "python",
   "nbconvert_exporter": "python",
   "pygments_lexer": "ipython3",
   "version": "3.9.0"
  }
 },
 "nbformat": 4,
 "nbformat_minor": 4
}
