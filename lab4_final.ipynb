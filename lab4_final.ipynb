{
 "cells": [
  {
   "cell_type": "code",
   "execution_count": 1,
   "metadata": {},
   "outputs": [],
   "source": [
    "import numpy as np\n",
    "import pandas as pd\n",
    "\n",
    "import matplotlib.pyplot as plt\n",
    "\n",
    "import seaborn as sns\n",
    "\n",
    "from sklearn.preprocessing import StandardScaler\n",
    "from sklearn.linear_model import LinearRegression, Lasso, Ridge, LassoCV, RidgeCV\n",
    "from sklearn import metrics\n",
    "from sklearn.svm import SVC\n",
    "from sklearn.metrics import roc_auc_score\n",
    "from sklearn.metrics import classification_report\n",
    "from sklearn.metrics import matthews_corrcoef\n",
    "from sklearn.ensemble import GradientBoostingClassifier\n",
    "\n",
    "from sklearn.model_selection import cross_val_predict\n",
    "from sklearn.model_selection import train_test_split\n",
    "from sklearn.metrics import confusion_matrix\n",
    "from sklearn.model_selection import RandomizedSearchCV\n",
    "from sklearn.model_selection import GridSearchCV\n",
    "from sklearn.linear_model import LogisticRegression\n",
    "\n",
    "\n",
    "np.set_printoptions(precision=3)\n",
    "pd.set_option('precision', 3)\n",
    "from sklearn.ensemble import RandomForestClassifier"
   ]
  },
  {
   "cell_type": "code",
   "execution_count": 14,
   "metadata": {},
   "outputs": [],
   "source": [
    "data = pd.read_csv('train.csv', index_col=0)"
   ]
  },
  {
   "cell_type": "markdown",
   "metadata": {},
   "source": [
    "#### Подробная обработка"
   ]
  },
  {
   "cell_type": "markdown",
   "metadata": {},
   "source": [
    "максимальная новая"
   ]
  },
  {
   "cell_type": "code",
   "execution_count": 15,
   "metadata": {},
   "outputs": [],
   "source": [
    "data = data.replace({'Gender': {'Female': 1, 'Male': 0},\n",
    "'Married': {'Yes': 1, 'No': 0},\n",
    "'Phone': {'Yes': 1, 'No': 0},\n",
    "'Dependents': {'Yes': 1, 'No': 0},\n",
    "'EBilling': {'Yes': 1, 'No': 0},\n",
    "'Security': {'Yes': 1, 'No': 0, 'No internet service': 0 },\n",
    "'Backup': {'Yes': 1, 'No': 0, 'No internet service': 0 },\n",
    "'Insurance': {'Yes': 1, 'No': 0, 'No internet service': 0 },\n",
    "'Support': {'Yes': 1, 'No': 0, 'No internet service': 0 },\n",
    "'TV': {'Yes': 1, 'No': 0, 'No internet service': 0 },\n",
    "'Movies': {'Yes': 1, 'No': 0, 'No internet service': 0 },\n",
    "'MultiplePhones': {'Yes': 1, 'No': 0, 'No phone service': 0 }\n",
    "})\n",
    "data=data.drop_duplicates()\n",
    "data.Tenure = data.Tenure.replace(0, 1).astype(float)\n",
    "data.TotalCharges = data.TotalCharges.replace(' ', 0).astype(float)\n",
    "data = data.drop(\"Phone\", axis=1)\n",
    "data['avgMonthCharge'] = data['TotalCharges']/data['Tenure']\n",
    "data = data.drop(\"MonthlyCharges\", axis=1)\n",
    "data = data.drop(\"TotalCharges\", axis=1)\n",
    "\n",
    "X, Y = data.drop(['Churn'], axis=1), data['Churn']\n",
    "X_dummies = pd.get_dummies(X, drop_first = True)\n",
    "std_scaler = StandardScaler()\n",
    "X_scaled = std_scaler.fit_transform(X_dummies)\n",
    "\n",
    "X_train, X_test, Y_train, Y_test = train_test_split(X, Y,\n",
    "                                                    test_size = 0.25,\n",
    "                                                    random_state = 5)\n",
    "X_test_dummies = pd.get_dummies(X_test, drop_first = True)\n",
    "X_train_dummies = pd.get_dummies(X_train, drop_first = True)\n",
    "\n",
    "std_scaler = StandardScaler()\n",
    "X_train_scaled = std_scaler.fit_transform(X_train_dummies)\n",
    "X_test_scaled = std_scaler.transform(X_test_dummies)"
   ]
  },
  {
   "cell_type": "markdown",
   "metadata": {},
   "source": [
    "максимальная старая"
   ]
  },
  {
   "cell_type": "code",
   "execution_count": 3,
   "metadata": {},
   "outputs": [],
   "source": [
    "data = data.replace({'Gender': {'Female': 1, 'Male': 0}, \n",
    "                     'Married': {'Yes': 1, 'No': 0}, \n",
    "                     'Phone': {'Yes': 1, 'No': 0},\n",
    "                     'Dependents': {'Yes': 1, 'No': 0},\n",
    "                     'EBilling': {'Yes': 1, 'No': 0}\n",
    "                    })\n",
    "data=data.drop_duplicates()\n",
    "data.Tenure = data.Tenure.replace(0, 1).astype(float)\n",
    "data.TotalCharges = data.TotalCharges.replace(' ', 0).astype(float)\n",
    "data = data.drop(\"Phone\", axis=1)\n",
    "data['avgMonthCharge'] = data['TotalCharges']/data['Tenure']\n",
    "data = data.drop(\"MonthlyCharges\", axis=1)\n",
    "data = data.drop(\"TotalCharges\", axis=1)\n",
    "\n",
    "X, Y = data.drop(['Churn'], axis=1), data['Churn']\n",
    "X_dummies = pd.get_dummies(X, drop_first = True)\n",
    "std_scaler = StandardScaler()\n",
    "X_scaled = std_scaler.fit_transform(X_dummies)\n",
    "\n",
    "X_train, X_test, Y_train, Y_test = train_test_split(X, Y,\n",
    "                                                    test_size = 0.25,\n",
    "                                                    random_state = 5)\n",
    "X_test_dummies = pd.get_dummies(X_test, drop_first = True)\n",
    "X_train_dummies = pd.get_dummies(X_train, drop_first = True)\n",
    "\n",
    "std_scaler = StandardScaler()\n",
    "X_train_scaled = std_scaler.fit_transform(X_train_dummies)\n",
    "X_test_scaled = std_scaler.transform(X_test_dummies)"
   ]
  },
  {
   "cell_type": "markdown",
   "metadata": {},
   "source": [
    "минимальная новая"
   ]
  },
  {
   "cell_type": "code",
   "execution_count": 3,
   "metadata": {},
   "outputs": [],
   "source": [
    "data = data.replace({'Gender': {'Female': 1, 'Male': 0},\n",
    "'Married': {'Yes': 1, 'No': 0},\n",
    "'Phone': {'Yes': 1, 'No': 0},\n",
    "'Dependents': {'Yes': 1, 'No': 0},\n",
    "'EBilling': {'Yes': 1, 'No': 0},\n",
    "'Security': {'Yes': 1, 'No': 0, 'No internet service': 0 },\n",
    "'Backup': {'Yes': 1, 'No': 0, 'No internet service': 0 },\n",
    "'Insurance': {'Yes': 1, 'No': 0, 'No internet service': 0 },\n",
    "'Support': {'Yes': 1, 'No': 0, 'No internet service': 0 },\n",
    "'TV': {'Yes': 1, 'No': 0, 'No internet service': 0 },\n",
    "'Movies': {'Yes': 1, 'No': 0, 'No internet service': 0 },\n",
    "'MultiplePhones': {'Yes': 1, 'No': 0, 'No phone service': 0 }\n",
    "})\n",
    "data.TotalCharges = data.TotalCharges.replace(' ', 0).astype(float)\n",
    "\n",
    "X, Y = data.drop(['Churn'], axis=1), data['Churn']\n",
    "X_dummies = pd.get_dummies(X, drop_first = True)\n",
    "std_scaler = StandardScaler()\n",
    "X_scaled = std_scaler.fit_transform(X_dummies)\n",
    "\n",
    "X_train, X_test, Y_train, Y_test = train_test_split(X, Y,\n",
    "                                                    test_size = 0.25,\n",
    "                                                    random_state = 5)\n",
    "X_test_dummies = pd.get_dummies(X_test, drop_first = True)\n",
    "X_train_dummies = pd.get_dummies(X_train, drop_first = True)\n",
    "\n",
    "std_scaler = StandardScaler()\n",
    "X_train_scaled = std_scaler.fit_transform(X_train_dummies)\n",
    "X_test_scaled = std_scaler.transform(X_test_dummies)\n"
   ]
  },
  {
   "cell_type": "markdown",
   "metadata": {},
   "source": [
    "минимальная старая"
   ]
  },
  {
   "cell_type": "code",
   "execution_count": 107,
   "metadata": {},
   "outputs": [],
   "source": [
    "data = data.replace({'Gender': {'Female': 1, 'Male': 0}, \n",
    "                     'Married': {'Yes': 1, 'No': 0}, \n",
    "                     'Phone': {'Yes': 1, 'No': 0},\n",
    "                     'Dependents': {'Yes': 1, 'No': 0},\n",
    "                     'EBilling': {'Yes': 1, 'No': 0}\n",
    "                    })\n",
    "data.TotalCharges = data.TotalCharges.replace(' ', 0).astype(float)\n",
    "\n",
    "X, Y = data.drop(['Churn'], axis=1), data['Churn']\n",
    "X_dummies = pd.get_dummies(X, drop_first = True)\n",
    "std_scaler = StandardScaler()\n",
    "X_scaled = std_scaler.fit_transform(X_dummies)\n",
    "\n",
    "X_train, X_test, Y_train, Y_test = train_test_split(X, Y,\n",
    "                                                    test_size = 0.25,\n",
    "                                                    random_state = 5)\n",
    "X_test_dummies = pd.get_dummies(X_test, drop_first = True)\n",
    "X_train_dummies = pd.get_dummies(X_train, drop_first = True)\n",
    "\n",
    "std_scaler = StandardScaler()\n",
    "X_train_scaled = std_scaler.fit_transform(X_train_dummies)\n",
    "X_test_scaled = std_scaler.transform(X_test_dummies)"
   ]
  },
  {
   "cell_type": "code",
   "execution_count": 3,
   "metadata": {},
   "outputs": [],
   "source": [
    "for i in data.columns:\n",
    "    print(data[i].value_counts())"
   ]
  },
  {
   "cell_type": "markdown",
   "metadata": {},
   "source": [
    "#### Что можно изменить?\n",
    "Атрибуты, связанные с наличием интернета <br>\n",
    "Все бинарные заменить на 0 и 1 <br>\n",
    "TotalCharges <br>\n",
    "Tenure <br>\n",
    "MonthlyCharges <br>\n",
    "Phone и MultiplePhones <br>\n",
    "Дамми-кодирование номинальных <br>"
   ]
  },
  {
   "cell_type": "code",
   "execution_count": 8,
   "metadata": {},
   "outputs": [],
   "source": [
    "data = data.replace({'Gender': {'Female': 1, 'Male': 0},\n",
    "'Married': {'Yes': 1, 'No': 0},\n",
    "'Phone': {'Yes': 1, 'No': 0},\n",
    "'Dependents': {'Yes': 1, 'No': 0},\n",
    "'EBilling': {'Yes': 1, 'No': 0},\n",
    "'Security': {'Yes': 1, 'No': 0, 'No internet service': 0 },\n",
    "'Backup': {'Yes': 1, 'No': 0, 'No internet service': 0 },\n",
    "'Insurance': {'Yes': 1, 'No': 0, 'No internet service': 0 },\n",
    "'Support': {'Yes': 1, 'No': 0, 'No internet service': 0 },\n",
    "'TV': {'Yes': 1, 'No': 0, 'No internet service': 0 },\n",
    "'Movies': {'Yes': 1, 'No': 0, 'No internet service': 0 },\n",
    "'MultiplePhones': {'Yes': 1, 'No': 0, 'No phone service': 0 }\n",
    "})"
   ]
  },
  {
   "cell_type": "code",
   "execution_count": 9,
   "metadata": {},
   "outputs": [
    {
     "data": {
      "text/plain": [
       "<AxesSubplot:xlabel='Tenure'>"
      ]
     },
     "execution_count": 9,
     "metadata": {},
     "output_type": "execute_result"
    },
    {
     "data": {
      "image/png": "[encoded data removed]",
      "text/plain": [
       "<Figure size 432x288 with 1 Axes>"
      ]
     },
     "metadata": {
      "needs_background": "light"
     },
     "output_type": "display_data"
    }
   ],
   "source": [
    "sns.boxplot(x='Tenure', data=data)"
   ]
  },
  {
   "cell_type": "code",
   "execution_count": 10,
   "metadata": {},
   "outputs": [
    {
     "data": {
      "text/plain": [
       "<AxesSubplot:xlabel='MonthlyCharges'>"
      ]
     },
     "execution_count": 10,
     "metadata": {},
     "output_type": "execute_result"
    },
    {
     "data": {
      "image/png": "[encoded data removed]",
      "text/plain": [
       "<Figure size 432x288 with 1 Axes>"
      ]
     },
     "metadata": {
      "needs_background": "light"
     },
     "output_type": "display_data"
    }
   ],
   "source": [
    "sns.boxplot(x='MonthlyCharges', data=data)"
   ]
  },
  {
   "cell_type": "code",
   "execution_count": 12,
   "metadata": {},
   "outputs": [
    {
     "data": {
      "text/plain": [
       "<AxesSubplot:xlabel='TotalCharges'>"
      ]
     },
     "execution_count": 12,
     "metadata": {},
     "output_type": "execute_result"
    },
    {
     "data": {
      "image/png": "[encoded data removed]",
      "text/plain": [
       "<Figure size 432x288 with 1 Axes>"
      ]
     },
     "metadata": {
      "needs_background": "light"
     },
     "output_type": "display_data"
    }
   ],
   "source": [
    "data.Tenure = data.Tenure.replace(0, 1).astype(float)\n",
    "data.TotalCharges = data.TotalCharges.replace(' ', 0).astype(float)\n",
    "sns.boxplot(x='TotalCharges', data=data)"
   ]
  },
  {
   "cell_type": "markdown",
   "metadata": {},
   "source": [
    "Пропусков нет, выбросов нет"
   ]
  },
  {
   "cell_type": "markdown",
   "metadata": {},
   "source": [
    "Phone можно убрать, т. к. признак MultiplePhones и так содержит информацию о том, подключен ли телефон или нет"
   ]
  },
  {
   "cell_type": "code",
   "execution_count": 14,
   "metadata": {},
   "outputs": [
    {
     "data": {
      "text/plain": [
       "<AxesSubplot:>"
      ]
     },
     "execution_count": 14,
     "metadata": {},
     "output_type": "execute_result"
    },
    {
     "data": {
      "image/png": "[encoded data removed]",
      "text/plain": [
       "<Figure size 1080x720 with 2 Axes>"
      ]
     },
     "metadata": {
      "needs_background": "light"
     },
     "output_type": "display_data"
    }
   ],
   "source": [
    "plt.figure(figsize=(15,10))\n",
    "sns.heatmap(data.corr(method = 'spearman'), annot = True)"
   ]
  },
  {
   "cell_type": "markdown",
   "metadata": {},
   "source": [
    "Высокая корреляция между TotalCharges и Tenure"
   ]
  },
  {
   "cell_type": "code",
   "execution_count": null,
   "metadata": {},
   "outputs": [],
   "source": [
    "data['avgMonthCharge'] = data['TotalCharges']/data['Tenure']\n",
    "data = data.drop(\"MonthlyCharges\", axis=1)\n",
    "data = data.drop(\"TotalCharges\", axis=1)"
   ]
  },
  {
   "cell_type": "code",
   "execution_count": 18,
   "metadata": {},
   "outputs": [
    {
     "data": {
      "text/plain": [
       "<AxesSubplot:>"
      ]
     },
     "execution_count": 18,
     "metadata": {},
     "output_type": "execute_result"
    },
    {
     "data": {
      "image/png": "[encoded data removed]",
      "text/plain": [
       "<Figure size 1080x720 with 2 Axes>"
      ]
     },
     "metadata": {
      "needs_background": "light"
     },
     "output_type": "display_data"
    }
   ],
   "source": [
    "plt.figure(figsize=(15,10))\n",
    "sns.heatmap(data.corr(method = 'spearman'), annot = True)"
   ]
  },
  {
   "cell_type": "markdown",
   "metadata": {},
   "source": [
    "## Случайный лес"
   ]
  },
  {
   "cell_type": "code",
   "execution_count": 14,
   "metadata": {},
   "outputs": [],
   "source": [
    "model = RandomForestClassifier(random_state = 10, n_estimators = 100)\n",
    "model.fit(X_train_dummies, Y_train)\n",
    "model_predictions = model.predict(X_test_dummies)"
   ]
  },
  {
   "cell_type": "markdown",
   "metadata": {},
   "source": [
    "максимальная старая"
   ]
  },
  {
   "cell_type": "code",
   "execution_count": 24,
   "metadata": {},
   "outputs": [
    {
     "name": "stdout",
     "output_type": "stream",
     "text": [
      "0.6899353019980825\n",
      "              precision    recall  f1-score   support\n",
      "\n",
      "       False       0.83      0.90      0.86       659\n",
      "        True       0.64      0.48      0.55       239\n",
      "\n",
      "    accuracy                           0.79       898\n",
      "   macro avg       0.73      0.69      0.70       898\n",
      "weighted avg       0.78      0.79      0.78       898\n",
      "\n",
      "0.4211153728857083\n"
     ]
    }
   ],
   "source": [
    "print(roc_auc_score(Y_test, model_predictions))\n",
    "print (classification_report(Y_test, model_predictions))\n",
    "print(matthews_corrcoef(Y_test, model_predictions))"
   ]
  },
  {
   "cell_type": "markdown",
   "metadata": {},
   "source": [
    "с минимальной предобработкой"
   ]
  },
  {
   "cell_type": "code",
   "execution_count": 15,
   "metadata": {},
   "outputs": [
    {
     "name": "stdout",
     "output_type": "stream",
     "text": [
      "0.6920273522072875\n",
      "              precision    recall  f1-score   support\n",
      "\n",
      "       False       0.83      0.90      0.86       659\n",
      "        True       0.64      0.48      0.55       239\n",
      "\n",
      "    accuracy                           0.79       898\n",
      "   macro avg       0.73      0.69      0.71       898\n",
      "weighted avg       0.78      0.79      0.78       898\n",
      "\n",
      "0.424857986337753\n"
     ]
    }
   ],
   "source": [
    "print(roc_auc_score(Y_test, model_predictions))\n",
    "print (classification_report(Y_test, model_predictions))\n",
    "print(matthews_corrcoef(Y_test, model_predictions))"
   ]
  },
  {
   "cell_type": "code",
   "execution_count": 5,
   "metadata": {},
   "outputs": [
    {
     "name": "stdout",
     "output_type": "stream",
     "text": [
      "Fitting 5 folds for each of 100 candidates, totalling 500 fits\n"
     ]
    },
    {
     "data": {
      "text/plain": [
       "RandomizedSearchCV(cv=5, estimator=RandomForestClassifier(random_state=10),\n",
       "                   n_iter=100, n_jobs=-1,\n",
       "                   param_distributions={'criterion': ['gini', 'entropy'],\n",
       "                                        'max_depth': [10, 20, 30, 40, 50, 60,\n",
       "                                                      70, 80, 90, 100, 110,\n",
       "                                                      None],\n",
       "                                        'max_features': ['sqrt', 'log2', 1, 2],\n",
       "                                        'n_estimators': [300, 317, 334, 351,\n",
       "                                                         368, 385, 403, 420,\n",
       "                                                         437, 454, 471, 488,\n",
       "                                                         506, 523, 540, 557,\n",
       "                                                         574, 591, 609, 626,\n",
       "                                                         643, 660, 677, 694,\n",
       "                                                         712, 729, 746, 763,\n",
       "                                                         780, 797, ...]},\n",
       "                   random_state=42, verbose=2)"
      ]
     },
     "execution_count": 5,
     "metadata": {},
     "output_type": "execute_result"
    }
   ],
   "source": [
    "max_depth = [int(x) for x in np.linspace(10, 110, num = 11)]\n",
    "n_estimators = [int(x) for x in np.linspace(start = 300, stop = 2000, num = 100)]\n",
    "max_depth.append(None)\n",
    "\n",
    "param_grid = { \n",
    "    'n_estimators': n_estimators,\n",
    "    'max_features': ['sqrt', 'log2', 1, 2],\n",
    "    'max_depth' : max_depth,\n",
    "    'criterion' :['gini', 'entropy']\n",
    "}\n",
    "\n",
    "rf_random = RandomizedSearchCV(estimator = RandomForestClassifier(random_state=10), param_distributions = param_grid, \n",
    "                               n_iter = 100, cv = 5, verbose=2, random_state=42, n_jobs = -1)\n",
    "rf_random.fit(X_train_dummies, Y_train)"
   ]
  },
  {
   "cell_type": "code",
   "execution_count": 8,
   "metadata": {},
   "outputs": [
    {
     "data": {
      "text/plain": [
       "{'n_estimators': 1948,\n",
       " 'max_features': 'sqrt',\n",
       " 'max_depth': 10,\n",
       " 'criterion': 'entropy'}"
      ]
     },
     "execution_count": 8,
     "metadata": {},
     "output_type": "execute_result"
    }
   ],
   "source": [
    "rf_random.best_params_"
   ]
  },
  {
   "cell_type": "markdown",
   "metadata": {},
   "source": [
    "Лучшее для Random Forest"
   ]
  },
  {
   "cell_type": "markdown",
   "metadata": {},
   "source": [
    "старая максимальная"
   ]
  },
  {
   "cell_type": "code",
   "execution_count": 24,
   "metadata": {},
   "outputs": [
    {
     "name": "stdout",
     "output_type": "stream",
     "text": [
      "0.7159827556650434\n",
      "              precision    recall  f1-score   support\n",
      "\n",
      "       False       0.84      0.91      0.87       659\n",
      "        True       0.68      0.52      0.59       239\n",
      "\n",
      "    accuracy                           0.81       898\n",
      "   macro avg       0.76      0.72      0.73       898\n",
      "weighted avg       0.80      0.81      0.80       898\n",
      "\n",
      "0.4720196757575701\n"
     ]
    }
   ],
   "source": [
    "rf_random_model_best=RandomForestClassifier(n_estimators= 1948, max_features= 'sqrt', max_depth= 10,\n",
    "                                            criterion= 'entropy')\n",
    "rf_random_model_best=rf_random_model_best.fit(X_train_dummies, Y_train)\n",
    "rf_random_pred_b = rf_random_model_best.predict(X_test_dummies)\n",
    "print(roc_auc_score(Y_test, rf_random_pred_b))\n",
    "print (classification_report(Y_test, rf_random_pred_b))\n",
    "print(matthews_corrcoef(Y_test, rf_random_pred_b))"
   ]
  },
  {
   "cell_type": "markdown",
   "metadata": {},
   "source": [
    "старая минимальная"
   ]
  },
  {
   "cell_type": "code",
   "execution_count": 36,
   "metadata": {},
   "outputs": [
    {
     "name": "stdout",
     "output_type": "stream",
     "text": [
      "0.7036145802248874\n",
      "              precision    recall  f1-score   support\n",
      "\n",
      "       False       0.83      0.91      0.87       659\n",
      "        True       0.67      0.49      0.57       239\n",
      "\n",
      "    accuracy                           0.80       898\n",
      "   macro avg       0.75      0.70      0.72       898\n",
      "weighted avg       0.79      0.80      0.79       898\n",
      "\n",
      "0.4543519054630784\n"
     ]
    }
   ],
   "source": [
    "rf_random_model_best=RandomForestClassifier(n_estimators= 1948, max_features= 'sqrt', max_depth= 10,\n",
    "                                            criterion= 'entropy')\n",
    "rf_random_model_best=rf_random_model_best.fit(X_train_dummies, Y_train)\n",
    "rf_random_pred_b = rf_random_model_best.predict(X_test_dummies)\n",
    "print(roc_auc_score(Y_test, rf_random_pred_b))\n",
    "print (classification_report(Y_test, rf_random_pred_b))\n",
    "print(matthews_corrcoef(Y_test, rf_random_pred_b))"
   ]
  },
  {
   "cell_type": "markdown",
   "metadata": {},
   "source": [
    "максимальная новая"
   ]
  },
  {
   "cell_type": "code",
   "execution_count": 61,
   "metadata": {},
   "outputs": [
    {
     "name": "stdout",
     "output_type": "stream",
     "text": [
      "0.7246115134169531\n",
      "              precision    recall  f1-score   support\n",
      "\n",
      "       False       0.85      0.89      0.87       659\n",
      "        True       0.65      0.56      0.60       237\n",
      "\n",
      "    accuracy                           0.80       896\n",
      "   macro avg       0.75      0.72      0.73       896\n",
      "weighted avg       0.80      0.80      0.80       896\n",
      "\n",
      "0.4733302425716399\n"
     ]
    }
   ],
   "source": [
    "rf_random_model_best=RandomForestClassifier(n_estimators= 1948, max_features= 'sqrt', max_depth= 10,\n",
    "                                            criterion= 'entropy')\n",
    "rf_random_model_best=rf_random_model_best.fit(X_train_dummies, Y_train)\n",
    "rf_random_pred_b = rf_random_model_best.predict(X_test_dummies)\n",
    "print(roc_auc_score(Y_test, rf_random_pred_b))\n",
    "print (classification_report(Y_test, rf_random_pred_b))\n",
    "print(matthews_corrcoef(Y_test, rf_random_pred_b))"
   ]
  },
  {
   "cell_type": "markdown",
   "metadata": {},
   "source": [
    "минимальная новая"
   ]
  },
  {
   "cell_type": "code",
   "execution_count": 35,
   "metadata": {},
   "outputs": [
    {
     "name": "stdout",
     "output_type": "stream",
     "text": [
      "0.7093161313261502\n",
      "              precision    recall  f1-score   support\n",
      "\n",
      "       False       0.84      0.92      0.87       659\n",
      "        True       0.69      0.50      0.58       239\n",
      "\n",
      "    accuracy                           0.81       898\n",
      "   macro avg       0.76      0.71      0.73       898\n",
      "weighted avg       0.80      0.81      0.80       898\n",
      "\n",
      "0.4670745238732764\n"
     ]
    }
   ],
   "source": [
    "rf_random_model_best=RandomForestClassifier(n_estimators= 1948, max_features= 'sqrt', max_depth= 10,\n",
    "                                            criterion= 'entropy')\n",
    "rf_random_model_best=rf_random_model_best.fit(X_train_dummies, Y_train)\n",
    "rf_random_pred_b = rf_random_model_best.predict(X_test_dummies)\n",
    "print(roc_auc_score(Y_test, rf_random_pred_b))\n",
    "print (classification_report(Y_test, rf_random_pred_b))\n",
    "print(matthews_corrcoef(Y_test, rf_random_pred_b))"
   ]
  },
  {
   "cell_type": "markdown",
   "metadata": {},
   "source": [
    "## Наивный Байеc"
   ]
  },
  {
   "cell_type": "code",
   "execution_count": 17,
   "metadata": {},
   "outputs": [],
   "source": [
    "from sklearn.naive_bayes import GaussianNB\n",
    "\n",
    "gNB = GaussianNB()\n",
    "gNB.fit(X_train_scaled, Y_train)\n",
    "gNB_predictions = gNB.predict(X_test_scaled)"
   ]
  },
  {
   "cell_type": "markdown",
   "metadata": {},
   "source": [
    "максимальная старая"
   ]
  },
  {
   "cell_type": "code",
   "execution_count": 30,
   "metadata": {},
   "outputs": [
    {
     "name": "stdout",
     "output_type": "stream",
     "text": [
      "0.7553507596777163\n",
      "              precision    recall  f1-score   support\n",
      "\n",
      "       False       0.94      0.62      0.75       659\n",
      "        True       0.46      0.89      0.61       239\n",
      "\n",
      "    accuracy                           0.69       898\n",
      "   macro avg       0.70      0.76      0.68       898\n",
      "weighted avg       0.81      0.69      0.71       898\n",
      "\n",
      "0.45153647324771873\n"
     ]
    }
   ],
   "source": [
    "print(roc_auc_score(Y_test, gNB_predictions))\n",
    "print (classification_report(Y_test, gNB_predictions))\n",
    "print(matthews_corrcoef(Y_test, gNB_predictions))"
   ]
  },
  {
   "cell_type": "markdown",
   "metadata": {},
   "source": [
    "минимальная старая"
   ]
  },
  {
   "cell_type": "code",
   "execution_count": 18,
   "metadata": {},
   "outputs": [
    {
     "name": "stdout",
     "output_type": "stream",
     "text": [
      "0.7578110615170697\n",
      "              precision    recall  f1-score   support\n",
      "\n",
      "       False       0.94      0.63      0.76       659\n",
      "        True       0.47      0.88      0.61       239\n",
      "\n",
      "    accuracy                           0.70       898\n",
      "   macro avg       0.70      0.76      0.68       898\n",
      "weighted avg       0.81      0.70      0.72       898\n",
      "\n",
      "0.45576827746224924\n"
     ]
    }
   ],
   "source": [
    "print(roc_auc_score(Y_test, gNB_predictions))\n",
    "print (classification_report(Y_test, gNB_predictions))\n",
    "print(matthews_corrcoef(Y_test, gNB_predictions))"
   ]
  },
  {
   "cell_type": "markdown",
   "metadata": {},
   "source": [
    "Кросс-валидация"
   ]
  },
  {
   "cell_type": "code",
   "execution_count": 31,
   "metadata": {},
   "outputs": [
    {
     "name": "stdout",
     "output_type": "stream",
     "text": [
      "0.7351506252368322\n",
      "              precision    recall  f1-score   support\n",
      "\n",
      "       False       0.93      0.60      0.73      2639\n",
      "        True       0.44      0.88      0.58       952\n",
      "\n",
      "    accuracy                           0.67      3591\n",
      "   macro avg       0.68      0.74      0.65      3591\n",
      "weighted avg       0.80      0.67      0.69      3591\n",
      "\n",
      "0.41589135416447703\n"
     ]
    }
   ],
   "source": [
    "gNB_cv_predictions = cross_val_predict(GaussianNB(), X_scaled, Y, cv=10)\n",
    "print(roc_auc_score(Y, gNB_cv_predictions))\n",
    "print (classification_report(Y, gNB_cv_predictions))\n",
    "print(matthews_corrcoef(Y, gNB_cv_predictions))"
   ]
  },
  {
   "cell_type": "code",
   "execution_count": 19,
   "metadata": {},
   "outputs": [
    {
     "name": "stdout",
     "output_type": "stream",
     "text": [
      "0.738484385796759\n",
      "              precision    recall  f1-score   support\n",
      "\n",
      "       False       0.93      0.61      0.74      2639\n",
      "        True       0.44      0.87      0.59       952\n",
      "\n",
      "    accuracy                           0.68      3591\n",
      "   macro avg       0.69      0.74      0.66      3591\n",
      "weighted avg       0.80      0.68      0.70      3591\n",
      "\n",
      "0.4213059731088554\n"
     ]
    }
   ],
   "source": [
    "gNB_cv_predictions = cross_val_predict(GaussianNB(), X_scaled, Y, cv=10)\n",
    "print(roc_auc_score(Y, gNB_cv_predictions))\n",
    "print (classification_report(Y, gNB_cv_predictions))\n",
    "print(matthews_corrcoef(Y, gNB_cv_predictions))"
   ]
  },
  {
   "cell_type": "markdown",
   "metadata": {},
   "source": [
    "#### Complement Naive Bayes"
   ]
  },
  {
   "cell_type": "code",
   "execution_count": 15,
   "metadata": {},
   "outputs": [],
   "source": [
    "from sklearn.naive_bayes import ComplementNB\n",
    "\n",
    "cNB = ComplementNB()\n",
    "cNB.fit(X_train_dummies, Y_train)\n",
    "cNB_predictions = cNB.predict(X_test_dummies)"
   ]
  },
  {
   "cell_type": "markdown",
   "metadata": {},
   "source": [
    "максимальная старая"
   ]
  },
  {
   "cell_type": "code",
   "execution_count": 16,
   "metadata": {},
   "outputs": [
    {
     "name": "stdout",
     "output_type": "stream",
     "text": [
      "0.7382968997022241\n",
      "              precision    recall  f1-score   support\n",
      "\n",
      "       False       0.89      0.72      0.80       659\n",
      "        True       0.49      0.76      0.60       239\n",
      "\n",
      "    accuracy                           0.73       898\n",
      "   macro avg       0.69      0.74      0.70       898\n",
      "weighted avg       0.79      0.73      0.74       898\n",
      "\n",
      "0.42864097754344344\n"
     ]
    }
   ],
   "source": [
    "print(roc_auc_score(Y_test, cNB_predictions))\n",
    "print (classification_report(Y_test, cNB_predictions))\n",
    "print(matthews_corrcoef(Y_test, cNB_predictions))"
   ]
  },
  {
   "cell_type": "markdown",
   "metadata": {},
   "source": [
    "минимальная старая"
   ]
  },
  {
   "cell_type": "code",
   "execution_count": 21,
   "metadata": {},
   "outputs": [
    {
     "name": "stdout",
     "output_type": "stream",
     "text": [
      "0.69695747963505\n",
      "              precision    recall  f1-score   support\n",
      "\n",
      "       False       0.88      0.63      0.73       659\n",
      "        True       0.43      0.77      0.55       239\n",
      "\n",
      "    accuracy                           0.66       898\n",
      "   macro avg       0.65      0.70      0.64       898\n",
      "weighted avg       0.76      0.66      0.68       898\n",
      "\n",
      "0.3485566060355673\n"
     ]
    }
   ],
   "source": [
    "print(roc_auc_score(Y_test, cNB_predictions))\n",
    "print (classification_report(Y_test, cNB_predictions))\n",
    "print(matthews_corrcoef(Y_test, cNB_predictions))"
   ]
  },
  {
   "cell_type": "markdown",
   "metadata": {},
   "source": [
    "Кросс-валидация"
   ]
  },
  {
   "cell_type": "code",
   "execution_count": 34,
   "metadata": {},
   "outputs": [
    {
     "name": "stdout",
     "output_type": "stream",
     "text": [
      "0.7339511401377526\n",
      "              precision    recall  f1-score   support\n",
      "\n",
      "       False       0.89      0.72      0.79      2639\n",
      "        True       0.49      0.75      0.59       952\n",
      "\n",
      "    accuracy                           0.73      3591\n",
      "   macro avg       0.69      0.73      0.69      3591\n",
      "weighted avg       0.78      0.73      0.74      3591\n",
      "\n",
      "0.42019112825099064\n"
     ]
    }
   ],
   "source": [
    "cNB_cv_predictions = cross_val_predict(ComplementNB(), X_dummies, Y, cv=10)\n",
    "print(roc_auc_score(Y, cNB_cv_predictions))\n",
    "print (classification_report(Y, cNB_cv_predictions))\n",
    "print(matthews_corrcoef(Y, cNB_cv_predictions))"
   ]
  },
  {
   "cell_type": "code",
   "execution_count": 22,
   "metadata": {},
   "outputs": [
    {
     "name": "stdout",
     "output_type": "stream",
     "text": [
      "0.6990894501036489\n",
      "              precision    recall  f1-score   support\n",
      "\n",
      "       False       0.88      0.65      0.74      2639\n",
      "        True       0.43      0.75      0.55       952\n",
      "\n",
      "    accuracy                           0.67      3591\n",
      "   macro avg       0.66      0.70      0.65      3591\n",
      "weighted avg       0.76      0.67      0.69      3591\n",
      "\n",
      "0.3526644410522458\n"
     ]
    }
   ],
   "source": [
    "cNB_cv_predictions = cross_val_predict(ComplementNB(), X_dummies, Y, cv=10)\n",
    "print(roc_auc_score(Y, cNB_cv_predictions))\n",
    "print (classification_report(Y, cNB_cv_predictions))\n",
    "print(matthews_corrcoef(Y, cNB_cv_predictions))"
   ]
  },
  {
   "cell_type": "markdown",
   "metadata": {},
   "source": [
    "## SVM"
   ]
  },
  {
   "cell_type": "code",
   "execution_count": 23,
   "metadata": {},
   "outputs": [],
   "source": [
    "svm_model = SVC()\n",
    "svm_model = svm_model.fit(X_train_scaled, Y_train)\n",
    "svm_model_pred = svm_model.predict(X_test_scaled)"
   ]
  },
  {
   "cell_type": "markdown",
   "metadata": {},
   "source": [
    "максимальная старая"
   ]
  },
  {
   "cell_type": "code",
   "execution_count": 36,
   "metadata": {},
   "outputs": [
    {
     "name": "stdout",
     "output_type": "stream",
     "text": [
      "0.6920051301261578\n",
      "              precision    recall  f1-score   support\n",
      "\n",
      "       False       0.83      0.92      0.87       659\n",
      "        True       0.68      0.46      0.55       239\n",
      "\n",
      "    accuracy                           0.80       898\n",
      "   macro avg       0.75      0.69      0.71       898\n",
      "weighted avg       0.79      0.80      0.79       898\n",
      "\n",
      "0.43925279344925294\n"
     ]
    }
   ],
   "source": [
    "print(roc_auc_score(Y_test, svm_model_pred))\n",
    "print (classification_report(Y_test, svm_model_pred))\n",
    "print(matthews_corrcoef(Y_test, svm_model_pred))"
   ]
  },
  {
   "cell_type": "markdown",
   "metadata": {},
   "source": [
    "минимальная старая"
   ]
  },
  {
   "cell_type": "code",
   "execution_count": 24,
   "metadata": {},
   "outputs": [
    {
     "name": "stdout",
     "output_type": "stream",
     "text": [
      "0.6948559056767893\n",
      "              precision    recall  f1-score   support\n",
      "\n",
      "       False       0.83      0.92      0.87       659\n",
      "        True       0.68      0.47      0.56       239\n",
      "\n",
      "    accuracy                           0.80       898\n",
      "   macro avg       0.75      0.69      0.71       898\n",
      "weighted avg       0.79      0.80      0.79       898\n",
      "\n",
      "0.44577455212980965\n"
     ]
    }
   ],
   "source": [
    "print(roc_auc_score(Y_test, svm_model_pred))\n",
    "print (classification_report(Y_test, svm_model_pred))\n",
    "print(matthews_corrcoef(Y_test, svm_model_pred))"
   ]
  },
  {
   "cell_type": "markdown",
   "metadata": {},
   "source": [
    "Кросс-валидация"
   ]
  },
  {
   "cell_type": "code",
   "execution_count": 37,
   "metadata": {},
   "outputs": [
    {
     "name": "stdout",
     "output_type": "stream",
     "text": [
      "0.6905537413904554\n",
      "              precision    recall  f1-score   support\n",
      "\n",
      "       False       0.83      0.91      0.86      2639\n",
      "        True       0.64      0.48      0.55       952\n",
      "\n",
      "    accuracy                           0.79      3591\n",
      "   macro avg       0.74      0.69      0.71      3591\n",
      "weighted avg       0.78      0.79      0.78      3591\n",
      "\n",
      "0.423944873781972\n"
     ]
    }
   ],
   "source": [
    "svm_cv_pred = cross_val_predict(SVC(), X_scaled, Y, cv = 10, n_jobs = -1)\n",
    "print(roc_auc_score(Y, svm_cv_pred))\n",
    "print (classification_report(Y, svm_cv_pred))\n",
    "print(matthews_corrcoef(Y, svm_cv_pred))"
   ]
  },
  {
   "cell_type": "code",
   "execution_count": 25,
   "metadata": {},
   "outputs": [
    {
     "name": "stdout",
     "output_type": "stream",
     "text": [
      "0.6965038004591758\n",
      "              precision    recall  f1-score   support\n",
      "\n",
      "       False       0.83      0.91      0.87      2639\n",
      "        True       0.66      0.48      0.56       952\n",
      "\n",
      "    accuracy                           0.80      3591\n",
      "   macro avg       0.74      0.70      0.71      3591\n",
      "weighted avg       0.78      0.80      0.79      3591\n",
      "\n",
      "0.43836633155287097\n"
     ]
    }
   ],
   "source": [
    "svm_cv_pred = cross_val_predict(SVC(), X_scaled, Y, cv = 10, n_jobs = -1)\n",
    "print(roc_auc_score(Y, svm_cv_pred))\n",
    "print (classification_report(Y, svm_cv_pred))\n",
    "print(matthews_corrcoef(Y, svm_cv_pred))"
   ]
  },
  {
   "cell_type": "code",
   "execution_count": 8,
   "metadata": {},
   "outputs": [
    {
     "name": "stdout",
     "output_type": "stream",
     "text": [
      "Fitting 5 folds for each of 36 candidates, totalling 180 fits\n"
     ]
    },
    {
     "data": {
      "text/plain": [
       "GridSearchCV(cv=5, estimator=SVC(), n_jobs=-1,\n",
       "             param_grid={'C': [0.1, 1, 10, 100], 'gamma': [1, 0.1, 0.01],\n",
       "                         'kernel': ['rbf', 'linear', 'sigmoid']},\n",
       "             scoring='roc_auc', verbose=2)"
      ]
     },
     "execution_count": 8,
     "metadata": {},
     "output_type": "execute_result"
    }
   ],
   "source": [
    "param_grid = {'C': [0.1, 1, 10, 100], 'gamma': [1,0.1,0.01],'kernel': ['rbf', 'linear', 'sigmoid']}\n",
    "\n",
    "svm_grid_model = GridSearchCV(estimator = SVC(), param_grid = param_grid, scoring='roc_auc', \n",
    "                                cv = 5, verbose=2, n_jobs = -1)\n",
    "svm_grid_model.fit(X_train_dummies, Y_train)"
   ]
  },
  {
   "cell_type": "code",
   "execution_count": 9,
   "metadata": {},
   "outputs": [
    {
     "data": {
      "text/plain": [
       "{'C': 0.1, 'gamma': 1, 'kernel': 'linear'}"
      ]
     },
     "execution_count": 9,
     "metadata": {},
     "output_type": "execute_result"
    }
   ],
   "source": [
    "svm_grid_model.best_params_"
   ]
  },
  {
   "cell_type": "markdown",
   "metadata": {},
   "source": [
    "#### SVM  kernel='linear', C=0.1"
   ]
  },
  {
   "cell_type": "code",
   "execution_count": 5,
   "metadata": {},
   "outputs": [],
   "source": [
    "svm_model_poly = SVC(kernel='linear', C=0.1)\n",
    "svm_model_p = svm_model_poly.fit(X_train_scaled, Y_train)\n",
    "svm_model_p_pred = svm_model_p.predict(X_test_scaled)"
   ]
  },
  {
   "cell_type": "markdown",
   "metadata": {},
   "source": [
    "максимальная старая"
   ]
  },
  {
   "cell_type": "code",
   "execution_count": 124,
   "metadata": {},
   "outputs": [
    {
     "name": "stdout",
     "output_type": "stream",
     "text": [
      "0.7198926899854657\n",
      "              precision    recall  f1-score   support\n",
      "\n",
      "       False       0.85      0.88      0.86       659\n",
      "        True       0.62      0.56      0.59       237\n",
      "\n",
      "    accuracy                           0.79       896\n",
      "   macro avg       0.74      0.72      0.73       896\n",
      "weighted avg       0.79      0.79      0.79       896\n",
      "\n",
      "0.4556774261052953\n"
     ]
    }
   ],
   "source": [
    "print(roc_auc_score(Y_test, svm_model_p_pred))\n",
    "print (classification_report(Y_test, svm_model_p_pred))\n",
    "print(matthews_corrcoef(Y_test, svm_model_p_pred))"
   ]
  },
  {
   "cell_type": "markdown",
   "metadata": {},
   "source": [
    "Минимальная старая"
   ]
  },
  {
   "cell_type": "code",
   "execution_count": 114,
   "metadata": {},
   "outputs": [
    {
     "name": "stdout",
     "output_type": "stream",
     "text": [
      "0.7249255560282156\n",
      "              precision    recall  f1-score   support\n",
      "\n",
      "       False       0.85      0.91      0.87       659\n",
      "        True       0.68      0.54      0.60       239\n",
      "\n",
      "    accuracy                           0.81       898\n",
      "   macro avg       0.76      0.72      0.74       898\n",
      "weighted avg       0.80      0.81      0.80       898\n",
      "\n",
      "0.48490592564309143\n"
     ]
    }
   ],
   "source": [
    "print(roc_auc_score(Y_test, svm_model_p_pred))\n",
    "print (classification_report(Y_test, svm_model_p_pred))\n",
    "print(matthews_corrcoef(Y_test, svm_model_p_pred))"
   ]
  },
  {
   "cell_type": "markdown",
   "metadata": {},
   "source": [
    "максимальная новая"
   ]
  },
  {
   "cell_type": "code",
   "execution_count": 5,
   "metadata": {},
   "outputs": [
    {
     "name": "stdout",
     "output_type": "stream",
     "text": [
      "0.7137300474443442\n",
      "              precision    recall  f1-score   support\n",
      "\n",
      "       False       0.84      0.88      0.86       659\n",
      "        True       0.63      0.54      0.58       237\n",
      "\n",
      "    accuracy                           0.79       896\n",
      "   macro avg       0.73      0.71      0.72       896\n",
      "weighted avg       0.79      0.79      0.79       896\n",
      "\n",
      "0.44807870301507363\n"
     ]
    }
   ],
   "source": [
    "print(roc_auc_score(Y_test, svm_model_p_pred))\n",
    "print (classification_report(Y_test, svm_model_p_pred))\n",
    "print(matthews_corrcoef(Y_test, svm_model_p_pred))"
   ]
  },
  {
   "cell_type": "markdown",
   "metadata": {},
   "source": [
    "минимальная новая"
   ]
  },
  {
   "cell_type": "code",
   "execution_count": 6,
   "metadata": {},
   "outputs": [
    {
     "name": "stdout",
     "output_type": "stream",
     "text": [
      "0.7249255560282156\n",
      "              precision    recall  f1-score   support\n",
      "\n",
      "       False       0.85      0.91      0.87       659\n",
      "        True       0.68      0.54      0.60       239\n",
      "\n",
      "    accuracy                           0.81       898\n",
      "   macro avg       0.76      0.72      0.74       898\n",
      "weighted avg       0.80      0.81      0.80       898\n",
      "\n",
      "0.48490592564309143\n"
     ]
    }
   ],
   "source": [
    "print(roc_auc_score(Y_test, svm_model_p_pred))\n",
    "print (classification_report(Y_test, svm_model_p_pred))\n",
    "print(matthews_corrcoef(Y_test, svm_model_p_pred))"
   ]
  },
  {
   "cell_type": "markdown",
   "metadata": {},
   "source": [
    "## Градиентный бустинг"
   ]
  },
  {
   "cell_type": "code",
   "execution_count": 126,
   "metadata": {},
   "outputs": [],
   "source": [
    "xgb = GradientBoostingClassifier()\n",
    "xgb_model=xgb.fit(X_train_scaled, Y_train)\n",
    "xgb_model_pred = xgb_model.predict(X_test_scaled)"
   ]
  },
  {
   "cell_type": "markdown",
   "metadata": {},
   "source": [
    "максимальная старая"
   ]
  },
  {
   "cell_type": "code",
   "execution_count": 5,
   "metadata": {},
   "outputs": [
    {
     "name": "stdout",
     "output_type": "stream",
     "text": [
      "0.7041891797512396\n",
      "              precision    recall  f1-score   support\n",
      "\n",
      "       False       0.83      0.91      0.87       659\n",
      "        True       0.67      0.50      0.57       239\n",
      "\n",
      "    accuracy                           0.80       898\n",
      "   macro avg       0.75      0.70      0.72       898\n",
      "weighted avg       0.79      0.80      0.79       898\n",
      "\n",
      "0.4527183818152893\n"
     ]
    }
   ],
   "source": [
    "print(roc_auc_score(Y_test, xgb_model_pred))\n",
    "print (classification_report(Y_test, xgb_model_pred))\n",
    "print(matthews_corrcoef(Y_test, xgb_model_pred))"
   ]
  },
  {
   "cell_type": "code",
   "execution_count": 4,
   "metadata": {},
   "outputs": [],
   "source": [
    "from sklearn.model_selection import GridSearchCV\n",
    "\n",
    "gbc = GradientBoostingClassifier()\n",
    "parameters = {\n",
    "    \"n_estimators\":[5,50,250,500],\n",
    "    \"max_depth\":[1,3,5,7,9],\n",
    "    \"learning_rate\":[0.01,0.1,1,10,100]\n",
    "}\n",
    "cv = GridSearchCV(gbc, parameters,cv=5, scoring='roc_auc', n_jobs=-1)\n",
    "cv_xbg_model = cv.fit(X_train_dummies, Y_train)"
   ]
  },
  {
   "cell_type": "markdown",
   "metadata": {},
   "source": [
    "Лучшее с градиентным бустингом"
   ]
  },
  {
   "cell_type": "code",
   "execution_count": 57,
   "metadata": {},
   "outputs": [],
   "source": [
    "xgb_best = GradientBoostingClassifier(learning_rate = 0.1, max_depth = 1, n_estimators = 250)\n",
    "xgb_best=xgb_best.fit(X_train_scaled, Y_train)\n",
    "xgb_model_pred_b = xgb_best.predict(X_test_scaled)"
   ]
  },
  {
   "cell_type": "markdown",
   "metadata": {},
   "source": [
    "максимальная старая"
   ]
  },
  {
   "cell_type": "code",
   "execution_count": 20,
   "metadata": {},
   "outputs": [
    {
     "name": "stdout",
     "output_type": "stream",
     "text": [
      "0.7057066304340925\n",
      "              precision    recall  f1-score   support\n",
      "\n",
      "       False       0.83      0.91      0.87       659\n",
      "        True       0.68      0.50      0.57       239\n",
      "\n",
      "    accuracy                           0.80       898\n",
      "   macro avg       0.75      0.71      0.72       898\n",
      "weighted avg       0.79      0.80      0.79       898\n",
      "\n",
      "0.45803114613620016\n"
     ]
    }
   ],
   "source": [
    "print(roc_auc_score(Y_test, xgb_model_pred_b))\n",
    "print (classification_report(Y_test, xgb_model_pred_b))\n",
    "print(matthews_corrcoef(Y_test, xgb_model_pred_b))"
   ]
  },
  {
   "cell_type": "markdown",
   "metadata": {},
   "source": [
    "минимальная старая"
   ]
  },
  {
   "cell_type": "code",
   "execution_count": 44,
   "metadata": {},
   "outputs": [
    {
     "name": "stdout",
     "output_type": "stream",
     "text": [
      "0.7085574059847238\n",
      "              precision    recall  f1-score   support\n",
      "\n",
      "       False       0.84      0.92      0.87       659\n",
      "        True       0.68      0.50      0.58       239\n",
      "\n",
      "    accuracy                           0.81       898\n",
      "   macro avg       0.76      0.71      0.73       898\n",
      "weighted avg       0.79      0.81      0.79       898\n",
      "\n",
      "0.46437874898243475\n"
     ]
    }
   ],
   "source": [
    "print(roc_auc_score(Y_test, xgb_model_pred_b))\n",
    "print (classification_report(Y_test, xgb_model_pred_b))\n",
    "print(matthews_corrcoef(Y_test, xgb_model_pred_b))"
   ]
  },
  {
   "cell_type": "markdown",
   "metadata": {},
   "source": [
    "минимальная новая"
   ]
  },
  {
   "cell_type": "code",
   "execution_count": 44,
   "metadata": {},
   "outputs": [
    {
     "name": "stdout",
     "output_type": "stream",
     "text": [
      "0.7085574059847238\n",
      "              precision    recall  f1-score   support\n",
      "\n",
      "       False       0.84      0.92      0.87       659\n",
      "        True       0.68      0.50      0.58       239\n",
      "\n",
      "    accuracy                           0.81       898\n",
      "   macro avg       0.76      0.71      0.73       898\n",
      "weighted avg       0.79      0.81      0.79       898\n",
      "\n",
      "0.46437874898243475\n"
     ]
    }
   ],
   "source": [
    "print(roc_auc_score(Y_test, xgb_model_pred_b))\n",
    "print (classification_report(Y_test, xgb_model_pred_b))\n",
    "print(matthews_corrcoef(Y_test, xgb_model_pred_b))"
   ]
  },
  {
   "cell_type": "markdown",
   "metadata": {},
   "source": [
    "# Лучшее"
   ]
  },
  {
   "cell_type": "markdown",
   "metadata": {},
   "source": [
    "максимальная новая"
   ]
  },
  {
   "cell_type": "code",
   "execution_count": 59,
   "metadata": {},
   "outputs": [
    {
     "name": "stdout",
     "output_type": "stream",
     "text": [
      "0.7202256327513238\n",
      "              precision    recall  f1-score   support\n",
      "\n",
      "       False       0.85      0.89      0.87       659\n",
      "        True       0.64      0.55      0.59       237\n",
      "\n",
      "    accuracy                           0.80       896\n",
      "   macro avg       0.74      0.72      0.73       896\n",
      "weighted avg       0.79      0.80      0.79       896\n",
      "\n",
      "0.46248621038367055\n"
     ]
    }
   ],
   "source": [
    "print(roc_auc_score(Y_test, xgb_model_pred_b))\n",
    "print (classification_report(Y_test, xgb_model_pred_b))\n",
    "print(matthews_corrcoef(Y_test, xgb_model_pred_b))"
   ]
  },
  {
   "cell_type": "markdown",
   "metadata": {},
   "source": [
    "## Логистическая регрессия"
   ]
  },
  {
   "cell_type": "code",
   "execution_count": 4,
   "metadata": {},
   "outputs": [],
   "source": [
    "lr_model = LogisticRegression()\n",
    "lr_model = lr_model.fit(X_train_scaled, Y_train)"
   ]
  },
  {
   "cell_type": "markdown",
   "metadata": {},
   "source": [
    "максимальная новая"
   ]
  },
  {
   "cell_type": "code",
   "execution_count": 12,
   "metadata": {},
   "outputs": [
    {
     "name": "stdout",
     "output_type": "stream",
     "text": [
      "0.7197262186025367\n",
      "              precision    recall  f1-score   support\n",
      "\n",
      "       False       0.85      0.87      0.86       659\n",
      "        True       0.62      0.57      0.59       237\n",
      "\n",
      "    accuracy                           0.79       896\n",
      "   macro avg       0.73      0.72      0.73       896\n",
      "weighted avg       0.79      0.79      0.79       896\n",
      "\n",
      "0.4524431357079627\n"
     ]
    }
   ],
   "source": [
    "lr_model_prediction = lr_model.predict(X_test_scaled)\n",
    "print(roc_auc_score(Y_test, lr_model_prediction))\n",
    "print (classification_report(Y_test, lr_model_prediction))\n",
    "print(matthews_corrcoef(Y_test, lr_model_prediction))"
   ]
  },
  {
   "cell_type": "markdown",
   "metadata": {},
   "source": [
    "минимальная новая"
   ]
  },
  {
   "cell_type": "code",
   "execution_count": 5,
   "metadata": {},
   "outputs": [
    {
     "name": "stdout",
     "output_type": "stream",
     "text": [
      "0.7213160551361578\n",
      "              precision    recall  f1-score   support\n",
      "\n",
      "       False       0.84      0.90      0.87       659\n",
      "        True       0.67      0.54      0.60       239\n",
      "\n",
      "    accuracy                           0.81       898\n",
      "   macro avg       0.76      0.72      0.73       898\n",
      "weighted avg       0.80      0.81      0.80       898\n",
      "\n",
      "0.4762240903686922\n"
     ]
    }
   ],
   "source": [
    "lr_model_prediction = lr_model.predict(X_test_scaled)\n",
    "print(roc_auc_score(Y_test, lr_model_prediction))\n",
    "print (classification_report(Y_test, lr_model_prediction))\n",
    "print(matthews_corrcoef(Y_test, lr_model_prediction))"
   ]
  },
  {
   "cell_type": "markdown",
   "metadata": {},
   "source": [
    "Максимальная старая"
   ]
  },
  {
   "cell_type": "code",
   "execution_count": 5,
   "metadata": {},
   "outputs": [
    {
     "name": "stdout",
     "output_type": "stream",
     "text": [
      "0.7225946485853134\n",
      "              precision    recall  f1-score   support\n",
      "\n",
      "       False       0.85      0.88      0.86       659\n",
      "        True       0.62      0.57      0.59       237\n",
      "\n",
      "    accuracy                           0.79       896\n",
      "   macro avg       0.74      0.72      0.73       896\n",
      "weighted avg       0.79      0.79      0.79       896\n",
      "\n",
      "0.4583495835785001\n"
     ]
    }
   ],
   "source": [
    "lr_model_prediction = lr_model.predict(X_test_scaled)\n",
    "print(roc_auc_score(Y_test, lr_model_prediction))\n",
    "print (classification_report(Y_test, lr_model_prediction))\n",
    "print(matthews_corrcoef(Y_test, lr_model_prediction))"
   ]
  },
  {
   "cell_type": "markdown",
   "metadata": {},
   "source": [
    "Минимальная старая"
   ]
  },
  {
   "cell_type": "code",
   "execution_count": 111,
   "metadata": {},
   "outputs": [
    {
     "name": "stdout",
     "output_type": "stream",
     "text": [
      "0.7192240049269528\n",
      "              precision    recall  f1-score   support\n",
      "\n",
      "       False       0.84      0.90      0.87       659\n",
      "        True       0.67      0.54      0.59       239\n",
      "\n",
      "    accuracy                           0.81       898\n",
      "   macro avg       0.75      0.72      0.73       898\n",
      "weighted avg       0.80      0.81      0.80       898\n",
      "\n",
      "0.47261423250168405\n"
     ]
    }
   ],
   "source": [
    "lr_model_prediction = lr_model.predict(X_test_scaled)\n",
    "print(roc_auc_score(Y_test, lr_model_prediction))\n",
    "print (classification_report(Y_test, lr_model_prediction))\n",
    "print(matthews_corrcoef(Y_test, lr_model_prediction))"
   ]
  },
  {
   "cell_type": "code",
   "execution_count": 23,
   "metadata": {},
   "outputs": [
    {
     "data": {
      "text/plain": [
       "{'C': 2, 'penalty': 'l2'}"
      ]
     },
     "execution_count": 23,
     "metadata": {},
     "output_type": "execute_result"
    }
   ],
   "source": [
    "grid_result_lr.best_params_"
   ]
  },
  {
   "cell_type": "markdown",
   "metadata": {},
   "source": [
    "#### Подготовка тестовых данных"
   ]
  },
  {
   "cell_type": "markdown",
   "metadata": {},
   "source": [
    "максимальная"
   ]
  },
  {
   "cell_type": "code",
   "execution_count": 63,
   "metadata": {},
   "outputs": [],
   "source": [
    "data_test = pd.read_csv('test.csv', index_col=0)\n",
    "data_test = data_test.replace({'Gender': {'Female': 1, 'Male': 0},\n",
    "'Married': {'Yes': 1, 'No': 0},\n",
    "'Phone': {'Yes': 1, 'No': 0},\n",
    "'Dependents': {'Yes': 1, 'No': 0},\n",
    "'EBilling': {'Yes': 1, 'No': 0},\n",
    "'Security': {'Yes': 1, 'No': 0, 'No internet service': 0 },\n",
    "'Backup': {'Yes': 1, 'No': 0, 'No internet service': 0 },\n",
    "'Insurance': {'Yes': 1, 'No': 0, 'No internet service': 0 },\n",
    "'Support': {'Yes': 1, 'No': 0, 'No internet service': 0 },\n",
    "'TV': {'Yes': 1, 'No': 0, 'No internet service': 0 },\n",
    "'Movies': {'Yes': 1, 'No': 0, 'No internet service': 0 },\n",
    "'MultiplePhones': {'Yes': 1, 'No': 0, 'No phone service': 0 }\n",
    "})\n",
    "# data_test = data_test.replace({'Gender': {'Female': 1, 'Male': 0}, \n",
    "#                      'Married': {'Yes': 1, 'No': 0}, \n",
    "#                      'Phone': {'Yes': 1, 'No': 0},\n",
    "#                      'Dependents': {'Yes': 1, 'No': 0},\n",
    "#                      'EBilling': {'Yes': 1, 'No': 0}\n",
    "#                     })\n",
    "data_test.TotalCharges = data_test.TotalCharges.replace(' ', 0).astype(float)\n",
    "data_test.Tenure = data_test.Tenure.replace(0, 1).astype(float)\n",
    "data_test = data_test.drop(\"Phone\", axis=1)\n",
    "\n",
    "data_test['avgMonthCharge'] = data_test['TotalCharges']/data_test['Tenure']\n",
    "data_test = data_test.drop(\"MonthlyCharges\", axis=1)\n",
    "data_test = data_test.drop(\"TotalCharges\", axis=1)\n",
    "X_t = data_test\n",
    "\n",
    "Xt_dummies = pd.get_dummies(X_t, drop_first = True)\n",
    "Xt_scaled = std_scaler.transform(Xt_dummies)"
   ]
  },
  {
   "cell_type": "markdown",
   "metadata": {},
   "source": [
    "минимальная"
   ]
  },
  {
   "cell_type": "code",
   "execution_count": 8,
   "metadata": {},
   "outputs": [],
   "source": [
    " data_test = pd.read_csv('test.csv', index_col=0)\n",
    "# data_test = data_test.replace({'Gender': {'Female': 1, 'Male': 0}, \n",
    "#                      'Married': {'Yes': 1, 'No': 0}, \n",
    "#                      'Phone': {'Yes': 1, 'No': 0},\n",
    "#                      'Dependents': {'Yes': 1, 'No': 0},\n",
    "#                      'EBilling': {'Yes': 1, 'No': 0}\n",
    "#                     })\n",
    "data_test = data_test.replace({'Gender': {'Female': 1, 'Male': 0},\n",
    "'Married': {'Yes': 1, 'No': 0},\n",
    "'Phone': {'Yes': 1, 'No': 0},\n",
    "'Dependents': {'Yes': 1, 'No': 0},\n",
    "'EBilling': {'Yes': 1, 'No': 0},\n",
    "'Security': {'Yes': 1, 'No': 0, 'No internet service': 0 },\n",
    "'Backup': {'Yes': 1, 'No': 0, 'No internet service': 0 },\n",
    "'Insurance': {'Yes': 1, 'No': 0, 'No internet service': 0 },\n",
    "'Support': {'Yes': 1, 'No': 0, 'No internet service': 0 },\n",
    "'TV': {'Yes': 1, 'No': 0, 'No internet service': 0 },\n",
    "'Movies': {'Yes': 1, 'No': 0, 'No internet service': 0 },\n",
    "'MultiplePhones': {'Yes': 1, 'No': 0, 'No phone service': 0 }\n",
    "})\n",
    "data_test.TotalCharges = data_test.TotalCharges.replace(' ', 0).astype(float)\n",
    "\n",
    "X_t = data_test\n",
    "\n",
    "Xt_dummies = pd.get_dummies(X_t, drop_first = True)\n",
    "Xt_scaled = std_scaler.transform(Xt_dummies)"
   ]
  },
  {
   "cell_type": "code",
   "execution_count": 9,
   "metadata": {},
   "outputs": [],
   "source": [
    "best_rf_test = svm_model_p.predict(Xt_scaled)"
   ]
  },
  {
   "cell_type": "code",
   "execution_count": 10,
   "metadata": {},
   "outputs": [],
   "source": [
    "submission_rf_max_new=pd.DataFrame(best_rf_test, columns=['Churn'])"
   ]
  },
  {
   "cell_type": "code",
   "execution_count": 11,
   "metadata": {},
   "outputs": [
    {
     "data": {
      "text/html": [
       "<div>\n",
       "<style scoped>\n",
       "    .dataframe tbody tr th:only-of-type {\n",
       "        vertical-align: middle;\n",
       "    }\n",
       "\n",
       "    .dataframe tbody tr th {\n",
       "        vertical-align: top;\n",
       "    }\n",
       "\n",
       "    .dataframe thead th {\n",
       "        text-align: right;\n",
       "    }\n",
       "</style>\n",
       "<table border=\"1\" class=\"dataframe\">\n",
       "  <thead>\n",
       "    <tr style=\"text-align: right;\">\n",
       "      <th></th>\n",
       "      <th>Index</th>\n",
       "      <th>Churn</th>\n",
       "    </tr>\n",
       "  </thead>\n",
       "  <tbody>\n",
       "    <tr>\n",
       "      <th>0</th>\n",
       "      <td>0</td>\n",
       "      <td>False</td>\n",
       "    </tr>\n",
       "    <tr>\n",
       "      <th>1</th>\n",
       "      <td>1</td>\n",
       "      <td>True</td>\n",
       "    </tr>\n",
       "    <tr>\n",
       "      <th>2</th>\n",
       "      <td>2</td>\n",
       "      <td>False</td>\n",
       "    </tr>\n",
       "    <tr>\n",
       "      <th>3</th>\n",
       "      <td>3</td>\n",
       "      <td>False</td>\n",
       "    </tr>\n",
       "    <tr>\n",
       "      <th>4</th>\n",
       "      <td>4</td>\n",
       "      <td>True</td>\n",
       "    </tr>\n",
       "    <tr>\n",
       "      <th>...</th>\n",
       "      <td>...</td>\n",
       "      <td>...</td>\n",
       "    </tr>\n",
       "    <tr>\n",
       "      <th>2390</th>\n",
       "      <td>2390</td>\n",
       "      <td>False</td>\n",
       "    </tr>\n",
       "    <tr>\n",
       "      <th>2391</th>\n",
       "      <td>2391</td>\n",
       "      <td>False</td>\n",
       "    </tr>\n",
       "    <tr>\n",
       "      <th>2392</th>\n",
       "      <td>2392</td>\n",
       "      <td>True</td>\n",
       "    </tr>\n",
       "    <tr>\n",
       "      <th>2393</th>\n",
       "      <td>2393</td>\n",
       "      <td>False</td>\n",
       "    </tr>\n",
       "    <tr>\n",
       "      <th>2394</th>\n",
       "      <td>2394</td>\n",
       "      <td>False</td>\n",
       "    </tr>\n",
       "  </tbody>\n",
       "</table>\n",
       "<p>2395 rows × 2 columns</p>\n",
       "</div>"
      ],
      "text/plain": [
       "      Index  Churn\n",
       "0         0  False\n",
       "1         1   True\n",
       "2         2  False\n",
       "3         3  False\n",
       "4         4   True\n",
       "...     ...    ...\n",
       "2390   2390  False\n",
       "2391   2391  False\n",
       "2392   2392   True\n",
       "2393   2393  False\n",
       "2394   2394  False\n",
       "\n",
       "[2395 rows x 2 columns]"
      ]
     },
     "execution_count": 11,
     "metadata": {},
     "output_type": "execute_result"
    }
   ],
   "source": [
    "submission_rf_max_new['Index'] = submission_rf_max_new.index\n",
    "submission_rf_max_new = submission_rf_max_new[[\"Index\", \"Churn\"]]\n",
    "submission_rf_max_new"
   ]
  },
  {
   "cell_type": "code",
   "execution_count": 12,
   "metadata": {},
   "outputs": [
    {
     "data": {
      "text/plain": [
       "False    1899\n",
       "True      496\n",
       "Name: Churn, dtype: int64"
      ]
     },
     "execution_count": 12,
     "metadata": {},
     "output_type": "execute_result"
    }
   ],
   "source": [
    "submission_rf_max_new.Churn.value_counts()"
   ]
  },
  {
   "cell_type": "code",
   "execution_count": 13,
   "metadata": {},
   "outputs": [],
   "source": [
    "submission_rf_max_new.to_csv('submission_svm_min_new.csv', index=False)"
   ]
  }
 ],
 "metadata": {
  "kernelspec": {
   "display_name": "Python 3",
   "language": "python",
   "name": "python3"
  },
  "language_info": {
   "codemirror_mode": {
    "name": "ipython",
    "version": 3
   },
   "file_extension": ".py",
   "mimetype": "text/x-python",
   "name": "python",
   "nbconvert_exporter": "python",
   "pygments_lexer": "ipython3",
   "version": "3.9.0"
  }
 },
 "nbformat": 4,
 "nbformat_minor": 4
}
